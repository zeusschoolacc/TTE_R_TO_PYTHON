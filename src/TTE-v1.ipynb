{
 "cells": [
  {
   "cell_type": "markdown",
   "metadata": {},
   "source": [
    "# TTE_R_TO_PYTHON\n",
    "\n",
    "- Zeus Elderfield\n",
    "- Earl Rondina"
   ]
  },
  {
   "cell_type": "markdown",
   "metadata": {},
   "source": [
    "## Instructions: \n",
    "\n",
    "Assignment 1 for Clustering:\n",
    "New and novel methods in Machine Learning are made either by borrowing formulas and concepts from other scientific fields and redefining it based on new sets of assumptions, or by adding an extra step to an already existing framework of methodology.\n",
    "\n",
    "In this exercise (Assignment 1 of the Clustering Topic), we will try to develop a novel method of Target Trial Emulation by integrating concepts of Clustering into the already existing framework. Target Trial Emulation is a new methodological framework in epidemiology which tries to account for the biases in old and traditional designs.\n",
    "\n",
    "These are the instructions:\n",
    "1. Look at this website: https://rpubs.com/alanyang0924/TTE\n",
    "2. Extract the dummy data in the package and save it as \"data_censored.csv\"\n",
    "2. Convert the R codes into Python Codes (use Jupyter Notebook), replicate the results using your python code.\n",
    "3. Create another copy of your Python Codes, name it TTE-v2 (use Jupyter Notebook).\n",
    "4. Using TTE-v2, think of a creative way on where you would integrate a clustering mechanism, understand each step carefully and decide at which step a clustering method can be implemented. Generate insights from your results.\n",
    "5. Do this by pair, preferably your thesis partner.\n",
    "6. Push to your github repository.\n",
    "7. Deadline is 2 weeks from today: February 28, 2025 at 11:59 pm.\n",
    "\n",
    "HINT: For those who dont have a thesis topic yet, you can actually develop a thesis topic out of this assignment."
   ]
  },
  {
   "metadata": {},
   "cell_type": "markdown",
   "source": "# Target Trial Emulation: Translating R Code to Python"
  },
  {
   "metadata": {},
   "cell_type": "markdown",
   "source": [
    "### Overview\n",
    "The provided R script performs a target trial emulation, a method used in epidemiology and causal inference to mimic a randomized controlled trial (RCT) using observational data. The script applies intention-to-treat (ITT) and per-protocol (PP) analyses, handling treatment switching and censoring weights using logistic regression models. Finally, it estimates causal effects through marginal structural models (MSM) and visualizes survival differences.\n",
    "\n",
    "We will now translate this into Python using pandas, numpy, statsmodels, and lifelines for survival analysis.\n",
    "\n",
    "### Introduction\n",
    "\n",
    "Target Trial Emulation (TTE) is an approach used to analyze observational data as if it were a randomized controlled trial (RCT). This method is commonly used in epidemiology and causal inference to estimate the effects of treatments while mitigating biases.\n",
    "\n",
    "In this notebook, we translate the Target Trial Emulation workflow from R to Python, focusing on:\n",
    "\n",
    "Defining estimands: Intention-to-Treat (ITT) and Per-Protocol (PP) analyses.\n",
    "Preparing data: Assigning variables such as treatment, outcome, and eligibility.\n",
    "Handling censoring: Using Inverse Probability of Censoring Weights (IPCW) to correct for treatment switching and informative censoring.\n",
    "Expanding the dataset: Transforming observational data into a sequence of trials.\n",
    "Estimating causal effects: Using Marginal Structural Models (MSM).\n",
    "Predicting survival probabilities and visualizing treatment effects over time.\n",
    "\n",
    "### Steps:\n",
    "\n",
    "1. Setup\n",
    "2. Data Preparation\n",
    "3. Weight Models and Censoring\n",
    "\n",
    "\n",
    "    3.1. Censoring due to Treatment Switching\n",
    "\n",
    "    3.2. Other Informative Censoring\n",
    "4. Calculate Weights\n",
    "5. Specify Outcome Model\n",
    "6. Expand Trials\n",
    "\n",
    "\n",
    "    6.1. Create Sequence of Trials Data\n",
    "7. Load or Sample from Expanded Data\n",
    "8. Fit Marginal Structural Model (MSM)\n",
    "9. Inference"
   ]
  },
  {
   "metadata": {},
   "cell_type": "markdown",
   "source": [
    "## 1. Setup\n",
    "In this step, we import the necessary libraries, set a random seed for reproducibility, and create temporary directories to store files (such as model objects). This mirrors the R code where trial_pp_dir and trial_itt_dir are created using tempdir() and dir.create()."
   ]
  },
  {
   "metadata": {
    "ExecuteTime": {
     "end_time": "2025-03-09T07:02:02.976285Z",
     "start_time": "2025-03-09T07:02:02.970686Z"
    }
   },
   "cell_type": "code",
   "source": [
    "import os\n",
    "import tempfile\n",
    "import pandas as pd\n",
    "import numpy as np\n",
    "import statsmodels.api as sm\n",
    "import matplotlib.pyplot as plt\n",
    "import pickle\n",
    "\n",
    "# Set seed for reproducibility\n",
    "np.random.seed(42)\n",
    "\n",
    "# Create temporary directories for saving files (similar to R's tempdir and dir.create)\n",
    "trial_pp_dir = os.path.join(tempfile.gettempdir(), \"trial_pp\")\n",
    "os.makedirs(trial_pp_dir, exist_ok=True)\n",
    "\n",
    "trial_itt_dir = os.path.join(tempfile.gettempdir(), \"trial_itt\")\n",
    "os.makedirs(trial_itt_dir, exist_ok=True)"
   ],
   "outputs": [],
   "execution_count": 36
  },
  {
   "metadata": {},
   "cell_type": "markdown",
   "source": [
    "## 2. Data Preparation\n",
    "We simulate a dummy dataset similar to the data_censored dataset in the R code. The dataset includes columns for patient ID, period, treatment, several covariates (x1, x2, x3, x4, age, age_s), outcome, censoring indicator, and eligibility. Then, we create two trial sequence datasets: one for per‑protocol (PP) and one for intention‑to‑treat (ITT) by selecting and renaming the required columns.\n",
    "\n"
   ]
  },
  {
   "metadata": {
    "ExecuteTime": {
     "end_time": "2025-03-09T07:02:03.001043Z",
     "start_time": "2025-03-09T07:02:02.983116Z"
    }
   },
   "cell_type": "code",
   "source": [
    "data_censored = pd.read_csv('../data/data_censored.csv')\n",
    "\n",
    "data_censored.head()\n",
    "\n",
    "print(\"First few rows of data_censored:\")\n",
    "print(data_censored.head())\n",
    "\n",
    "# Define a helper function to mimic R's set_data\n",
    "def set_data(data, id_col, period, treatment, outcome, eligible):\n",
    "    \"\"\"\n",
    "    Subset the DataFrame to the specified columns and rename them to standard names.\n",
    "    \"\"\"\n",
    "    df = dict()\n",
    "    df['data'] = data.copy()\n",
    "    df['id'] = id_col\n",
    "    df['period'] = period\n",
    "    df['treatment'] = treatment\n",
    "    df['outcome'] = outcome\n",
    "    df['eligible'] = eligible\n",
    "\n",
    "    return df\n",
    "\n",
    "# Create trial data for per-protocol (PP) and ITT\n",
    "trial_pp = set_data(data=data_censored, id_col=\"id\", period=\"period\",\n",
    "                    treatment=\"treatment\", outcome=\"outcome\", eligible=\"eligible\")\n",
    "trial_itt = set_data(data=data_censored, id_col=\"id\", period=\"period\",\n",
    "                     treatment=\"treatment\", outcome=\"outcome\", eligible=\"eligible\")\n",
    "\n",
    "print(\"\\nPer-protocol trial data:\")\n",
    "print(trial_pp['data'].head())\n",
    "print(\"\\nITT trial data:\")\n",
    "print(trial_itt['data'].head())"
   ],
   "outputs": [
    {
     "name": "stdout",
     "output_type": "stream",
     "text": [
      "First few rows of data_censored:\n",
      "   id  period  treatment  x1        x2  x3        x4  age     age_s  outcome  \\\n",
      "0   1       0          1   1  1.146148   0  0.734203   36  0.083333        0   \n",
      "1   1       1          1   1  0.002200   0  0.734203   37  0.166667        0   \n",
      "2   1       2          1   0 -0.481762   0  0.734203   38  0.250000        0   \n",
      "3   1       3          1   0  0.007872   0  0.734203   39  0.333333        0   \n",
      "4   1       4          1   1  0.216054   0  0.734203   40  0.416667        0   \n",
      "\n",
      "   censored  eligible  \n",
      "0         0         1  \n",
      "1         0         0  \n",
      "2         0         0  \n",
      "3         0         0  \n",
      "4         0         0  \n",
      "\n",
      "Per-protocol trial data:\n",
      "   id  period  treatment  x1        x2  x3        x4  age     age_s  outcome  \\\n",
      "0   1       0          1   1  1.146148   0  0.734203   36  0.083333        0   \n",
      "1   1       1          1   1  0.002200   0  0.734203   37  0.166667        0   \n",
      "2   1       2          1   0 -0.481762   0  0.734203   38  0.250000        0   \n",
      "3   1       3          1   0  0.007872   0  0.734203   39  0.333333        0   \n",
      "4   1       4          1   1  0.216054   0  0.734203   40  0.416667        0   \n",
      "\n",
      "   censored  eligible  \n",
      "0         0         1  \n",
      "1         0         0  \n",
      "2         0         0  \n",
      "3         0         0  \n",
      "4         0         0  \n",
      "\n",
      "ITT trial data:\n",
      "   id  period  treatment  x1        x2  x3        x4  age     age_s  outcome  \\\n",
      "0   1       0          1   1  1.146148   0  0.734203   36  0.083333        0   \n",
      "1   1       1          1   1  0.002200   0  0.734203   37  0.166667        0   \n",
      "2   1       2          1   0 -0.481762   0  0.734203   38  0.250000        0   \n",
      "3   1       3          1   0  0.007872   0  0.734203   39  0.333333        0   \n",
      "4   1       4          1   1  0.216054   0  0.734203   40  0.416667        0   \n",
      "\n",
      "   censored  eligible  \n",
      "0         0         1  \n",
      "1         0         0  \n",
      "2         0         0  \n",
      "3         0         0  \n",
      "4         0         0  \n"
     ]
    }
   ],
   "execution_count": 37
  },
  {
   "metadata": {},
   "cell_type": "markdown",
   "source": [
    "## 3. Weight Models and Censoring\n",
    "In target trial emulation, we adjust for bias due to treatment switching and informative censoring by estimating inverse probability weights."
   ]
  },
  {
   "metadata": {},
   "cell_type": "markdown",
   "source": [
    "### 3.1. Censoring due to Treatment Switching\n",
    "\n",
    "We fit two logistic models – one with only age (numerator) and one with age + x1 + x3 (denominator) – and compute the stabilized weight as the ratio of their predicted probabilities. This weight is used to adjust for treatment switching in the per-protocol analysis."
   ]
  },
  {
   "metadata": {
    "ExecuteTime": {
     "end_time": "2025-03-09T07:02:03.074866Z",
     "start_time": "2025-03-09T07:02:03.052056Z"
    }
   },
   "cell_type": "code",
   "source": [
    "# Helper functions for logistic regression\n",
    "def fit_logistic_model(X, y):\n",
    "    \"\"\"\n",
    "    Fit a logistic regression model using statsmodels.\n",
    "    \"\"\"\n",
    "    X = sm.add_constant(X)\n",
    "    model = sm.Logit(y, X).fit(disp=False)\n",
    "    return model\n",
    "\n",
    "def predict_prob(model, X):\n",
    "    \"\"\"\n",
    "    Predict probabilities from a logistic regression model.\n",
    "    \"\"\"\n",
    "    X = sm.add_constant(X)\n",
    "    return model.predict(X)\n",
    "\n",
    "def set_switch_weight_model(data, numerator, denominator, model_fitter=fit_logistic_model, save_path=None):\n",
    "    \"\"\"\n",
    "    Fit the switch weight model for treatment switching.\n",
    "\n",
    "    Parameters:\n",
    "      - data (DataFrame): Observational data.\n",
    "      - numerator (str): Formula for numerator (e.g., \"~ age\").\n",
    "      - denominator (str): Formula for denominator (e.g., \"~ age + x1 + x3\").\n",
    "      - model_fitter (function): Function to fit logistic models.\n",
    "      - save_path (str, optional): Directory to save models.\n",
    "\n",
    "    Returns:\n",
    "      - dict: Contains updated data (with 'switch_weight'), numerator_model, and denominator_model.\n",
    "    \"\"\"\n",
    "    # Parse formulas\n",
    "    num_formula = numerator.replace(\"~\", \"\").strip()\n",
    "    num_vars = [v.strip() for v in num_formula.split(\"+\")]\n",
    "\n",
    "    den_formula = denominator.replace(\"~\", \"\").strip()\n",
    "    den_vars = [v.strip() for v in den_formula.split(\"+\")]\n",
    "\n",
    "    # Fit numerator model: treatment ~ (numerator variables)\n",
    "    X_num = data[num_vars]\n",
    "    y_treatment = data[\"treatment\"]\n",
    "    num_model = model_fitter(X_num, y_treatment)\n",
    "\n",
    "    # Fit denominator model: treatment ~ (denominator variables)\n",
    "    X_den = data[den_vars]\n",
    "    den_model = model_fitter(X_den, y_treatment)\n",
    "\n",
    "    # Compute predicted probabilities and the stabilized weight\n",
    "    p_num = predict_prob(num_model, X_num)\n",
    "    p_den = predict_prob(den_model, X_den)\n",
    "\n",
    "    data = data.copy()\n",
    "    data[\"switch_weight\"] = p_num / p_den\n",
    "\n",
    "    # Optionally save models\n",
    "    if save_path is not None:\n",
    "        os.makedirs(save_path, exist_ok=True)\n",
    "        with open(os.path.join(save_path, \"switch_model_num.pkl\"), \"wb\") as f:\n",
    "            pickle.dump(num_model, f)\n",
    "        with open(os.path.join(save_path, \"switch_model_den.pkl\"), \"wb\") as f:\n",
    "            pickle.dump(den_model, f)\n",
    "\n",
    "    return {\"data\": data, \"numerator_model\": num_model, \"denominator_model\": den_model,\n",
    "            \"switch_weights\": data[\"switch_weight\"]}\n",
    "\n",
    "# Apply the switch weight model to the per-protocol data\n",
    "switch_results = set_switch_weight_model(\n",
    "    data=trial_pp['data'],\n",
    "    numerator=\"~ age\",\n",
    "    denominator=\"~ age + x1 + x3\",\n",
    "    model_fitter=fit_logistic_model,\n",
    "    save_path=os.path.join(trial_pp_dir, \"switch_models\")\n",
    ")\n",
    "trial_pp['data'] = switch_results[\"data\"]\n",
    "\n",
    "print(\"\\nFirst few rows with switch weights (PP):\")\n",
    "print(trial_pp['data'].head())"
   ],
   "outputs": [
    {
     "name": "stdout",
     "output_type": "stream",
     "text": [
      "\n",
      "First few rows with switch weights (PP):\n",
      "   id  period  treatment  x1        x2  x3        x4  age     age_s  outcome  \\\n",
      "0   1       0          1   1  1.146148   0  0.734203   36  0.083333        0   \n",
      "1   1       1          1   1  0.002200   0  0.734203   37  0.166667        0   \n",
      "2   1       2          1   0 -0.481762   0  0.734203   38  0.250000        0   \n",
      "3   1       3          1   0  0.007872   0  0.734203   39  0.333333        0   \n",
      "4   1       4          1   1  0.216054   0  0.734203   40  0.416667        0   \n",
      "\n",
      "   censored  eligible  switch_weight  \n",
      "0         0         1       0.930088  \n",
      "1         0         0       0.928634  \n",
      "2         0         0       1.039459  \n",
      "3         0         0       1.040816  \n",
      "4         0         0       0.924292  \n"
     ]
    }
   ],
   "execution_count": 38
  },
  {
   "metadata": {},
   "cell_type": "markdown",
   "source": [
    "### 3.2. Other Informative Censoring\n",
    "\n",
    "We fit logistic models to estimate the probability of not being censored using x2 (numerator) and x2 + x1 (denominator).\n"
   ]
  },
  {
   "metadata": {
    "ExecuteTime": {
     "end_time": "2025-03-09T07:02:03.118521Z",
     "start_time": "2025-03-09T07:02:03.080531Z"
    }
   },
   "cell_type": "code",
   "source": [
    "def set_censor_weight_model(data, censor_event, numerator, denominator, pool_models=\"none\",\n",
    "                            model_fitter=fit_logistic_model, save_path=None):\n",
    "    \"\"\"\n",
    "    Fit a censor weight model to adjust for informative censoring.\n",
    "\n",
    "    Parameters:\n",
    "      - data (DataFrame): Observational data.\n",
    "      - censor_event (str): Column name for the censoring indicator.\n",
    "      - numerator (str): Formula for numerator (e.g., \"~ x2\").\n",
    "      - denominator (str): Formula for denominator (e.g., \"~ x2 + x1\").\n",
    "      - pool_models (str): How to pool models (\"none\" or \"numerator\").\n",
    "      - model_fitter (function): Function to fit logistic models.\n",
    "      - save_path (str, optional): Directory to save models.\n",
    "\n",
    "    Returns:\n",
    "      - dict: Contains updated data (with 'censor_weight') and fitted models.\n",
    "    \"\"\"\n",
    "    data = data.copy()\n",
    "    # Define not censored as 1 - censored\n",
    "    data[\"not_censored\"] = 1 - data[censor_event]\n",
    "\n",
    "    # Parse numerator formula\n",
    "    num_formula = numerator.replace(\"~\", \"\").strip()\n",
    "    num_vars = [v.strip() for v in num_formula.split(\"+\")]\n",
    "\n",
    "    # Parse denominator formula\n",
    "    den_formula = denominator.replace(\"~\", \"\").strip()\n",
    "    den_vars = [v.strip() for v in den_formula.split(\"+\")]\n",
    "\n",
    "    # Fit numerator model: not_censored ~ x2\n",
    "    X_num = data[num_vars]\n",
    "    y_nc = data[\"not_censored\"]\n",
    "    num_model = model_fitter(X_num, y_nc)\n",
    "\n",
    "    # Fit denominator model: not_censored ~ x2 + x1\n",
    "    X_den = data[den_vars]\n",
    "    den_model = model_fitter(X_den, y_nc)\n",
    "\n",
    "    # Predict probabilities and compute censor weight\n",
    "    p_num = predict_prob(num_model, X_num)\n",
    "    p_den = predict_prob(den_model, X_den)\n",
    "\n",
    "    data[\"censor_weight\"] = p_num / p_den\n",
    "\n",
    "    if save_path is not None:\n",
    "        os.makedirs(save_path, exist_ok=True)\n",
    "        num_path = os.path.join(save_path, \"switch_model_num.pkl\")\n",
    "        den_path = os.path.join(save_path, \"switch_model_den.pkl\")\n",
    "        with open(num_path, \"wb\") as f:\n",
    "            pickle.dump(num_model, f)\n",
    "        with open(den_path, \"wb\") as f:\n",
    "            pickle.dump(den_model, f)\n",
    "        print(f\"Models saved at: {num_path} and {den_path}\")\n",
    "\n",
    "    return {\"data\": data, \"numerator_model\": num_model, \"denominator_model\": den_model,\n",
    "            \"censor_weights\": data[\"censor_weight\"]}\n",
    "\n",
    "# For per-protocol (PP), use pool_models=\"none\"\n",
    "censor_results_pp = set_censor_weight_model(\n",
    "    data=trial_pp['data'],\n",
    "    censor_event=\"censored\",\n",
    "    numerator=\"~ x2\",\n",
    "    denominator=\"~ x2 + x1\",\n",
    "    pool_models=\"none\",\n",
    "    model_fitter=fit_logistic_model,\n",
    "    save_path=os.path.join(trial_pp_dir, \"switch_models\")\n",
    ")\n",
    "trial_pp['data'] = censor_results_pp[\"data\"]\n",
    "print(\"\\nFirst few rows with censor weights (PP):\")\n",
    "print(trial_pp['data'].head())\n",
    "\n",
    "# For ITT, we assume pooling numerator (\"numerator\")\n",
    "censor_results_itt = set_censor_weight_model(\n",
    "    data=trial_itt['data'],\n",
    "    censor_event=\"censored\",\n",
    "    numerator=\"~ x2\",\n",
    "    denominator=\"~ x2 + x1\",\n",
    "    pool_models=\"numerator\",\n",
    "    model_fitter=fit_logistic_model,\n",
    "    save_path=os.path.join(trial_itt_dir, \"switch_models\")\n",
    ")\n",
    "trial_itt['data'] = censor_results_itt[\"data\"]\n",
    "print(\"\\nFirst few rows with censor weights (ITT):\")\n",
    "print(trial_itt['data'].head())"
   ],
   "outputs": [
    {
     "name": "stdout",
     "output_type": "stream",
     "text": [
      "Models saved at: C:\\Users\\Zeus\\AppData\\Local\\Temp\\trial_pp\\switch_models\\switch_model_num.pkl and C:\\Users\\Zeus\\AppData\\Local\\Temp\\trial_pp\\switch_models\\switch_model_den.pkl\n",
      "\n",
      "First few rows with censor weights (PP):\n",
      "   id  period  treatment  x1        x2  x3        x4  age     age_s  outcome  \\\n",
      "0   1       0          1   1  1.146148   0  0.734203   36  0.083333        0   \n",
      "1   1       1          1   1  0.002200   0  0.734203   37  0.166667        0   \n",
      "2   1       2          1   0 -0.481762   0  0.734203   38  0.250000        0   \n",
      "3   1       3          1   0  0.007872   0  0.734203   39  0.333333        0   \n",
      "4   1       4          1   1  0.216054   0  0.734203   40  0.416667        0   \n",
      "\n",
      "   censored  eligible  switch_weight  not_censored  censor_weight  \n",
      "0         0         1       0.930088             1       0.955481  \n",
      "1         0         0       0.928634             1       0.970647  \n",
      "2         0         0       1.039459             1       1.016972  \n",
      "3         0         0       1.040816             1       1.021899  \n",
      "4         0         0       0.924292             1       0.968208  \n",
      "Models saved at: C:\\Users\\Zeus\\AppData\\Local\\Temp\\trial_itt\\switch_models\\switch_model_num.pkl and C:\\Users\\Zeus\\AppData\\Local\\Temp\\trial_itt\\switch_models\\switch_model_den.pkl\n",
      "\n",
      "First few rows with censor weights (ITT):\n",
      "   id  period  treatment  x1        x2  x3        x4  age     age_s  outcome  \\\n",
      "0   1       0          1   1  1.146148   0  0.734203   36  0.083333        0   \n",
      "1   1       1          1   1  0.002200   0  0.734203   37  0.166667        0   \n",
      "2   1       2          1   0 -0.481762   0  0.734203   38  0.250000        0   \n",
      "3   1       3          1   0  0.007872   0  0.734203   39  0.333333        0   \n",
      "4   1       4          1   1  0.216054   0  0.734203   40  0.416667        0   \n",
      "\n",
      "   censored  eligible  not_censored  censor_weight  \n",
      "0         0         1             1       0.955481  \n",
      "1         0         0             1       0.970647  \n",
      "2         0         0             1       1.016972  \n",
      "3         0         0             1       1.021899  \n",
      "4         0         0             1       0.968208  \n"
     ]
    }
   ],
   "execution_count": 39
  },
  {
   "metadata": {},
   "cell_type": "markdown",
   "source": [
    "### 4. Calculate Weights\n",
    "\n",
    "For the per-protocol analysis, the overall weight is computed as the product of the switch weight and the censor weight. For ITT, we use the censor weight directly.\n",
    "\n",
    "These computed weights will be used later when fitting the marginal structural model (MSM)."
   ]
  },
  {
   "metadata": {
    "ExecuteTime": {
     "end_time": "2025-03-09T07:02:03.159737Z",
     "start_time": "2025-03-09T07:02:03.149325Z"
    }
   },
   "cell_type": "code",
   "source": [
    "# For PP, overall weight is the product of switch and censor weights.\n",
    "trial_pp['data'][\"PP_weight\"] = trial_pp['data'][\"switch_weight\"] * trial_pp['data'][\"censor_weight\"]\n",
    "\n",
    "# For ITT, weight is simply the censor weight.\n",
    "trial_itt['data'][\"ITT_weight\"] = trial_itt['data'][\"censor_weight\"]\n",
    "\n",
    "print(\"\\nFirst few rows with overall PP weights:\")\n",
    "print(trial_pp['data'][[\"id\", \"PP_weight\"]].head())\n",
    "print(\"\\nFirst few rows with ITT weights:\")\n",
    "print(trial_itt['data'][[\"id\", \"ITT_weight\"]].head())\n"
   ],
   "outputs": [
    {
     "name": "stdout",
     "output_type": "stream",
     "text": [
      "\n",
      "First few rows with overall PP weights:\n",
      "   id  PP_weight\n",
      "0   1   0.888682\n",
      "1   1   0.901376\n",
      "2   1   1.057101\n",
      "3   1   1.063608\n",
      "4   1   0.894907\n",
      "\n",
      "First few rows with ITT weights:\n",
      "   id  ITT_weight\n",
      "0   1    0.955481\n",
      "1   1    0.970647\n",
      "2   1    1.016972\n",
      "3   1    1.021899\n",
      "4   1    0.968208\n"
     ]
    }
   ],
   "execution_count": 40
  },
  {
   "metadata": {},
   "cell_type": "markdown",
   "source": [
    "## 5. Specify Outcome Model\n",
    "\n",
    "Explanation\n",
    "The outcome model is specified as:\n",
    "`outcome ~ assigned_treatment + x2 + followup_time + (followup_time)^2 + trial_period + (trial_period)^2`\n",
    "\n",
    "For ITT, an adjustment term (x2) is added. In this simplified example, we create a function to \"set\" the outcome model (here just a placeholder)."
   ]
  },
  {
   "metadata": {
    "ExecuteTime": {
     "end_time": "2025-03-09T07:02:03.195490Z",
     "start_time": "2025-03-09T07:02:03.190272Z"
    }
   },
   "cell_type": "code",
   "source": [
    "def set_outcome_model(data, adjustment_terms=None):\n",
    "    \"\"\"\n",
    "    Dummy function to mark outcome model specification.\n",
    "\n",
    "    Parameters:\n",
    "        data (DataFrame): Input data.\n",
    "        adjustment_terms: Additional adjustment terms (stored as a string for simplicity).\n",
    "\n",
    "    Returns:\n",
    "        DataFrame: Data with an added column 'adjustment_terms'.\n",
    "    \"\"\"\n",
    "    data = data.copy()\n",
    "    data[\"adjustment_terms\"] = adjustment_terms if adjustment_terms is not None else \"\"\n",
    "    return data\n",
    "\n",
    "# For PP, no additional adjustment is specified.\n",
    "trial_pp['data'] = set_outcome_model(trial_pp['data'])\n",
    "\n",
    "# For ITT, specify an adjustment term (\"x2\")\n",
    "trial_itt['data'] = set_outcome_model(trial_itt['data'], adjustment_terms=\"x2\")"
   ],
   "outputs": [],
   "execution_count": 41
  },
  {
   "metadata": {},
   "cell_type": "markdown",
   "source": [
    "## 6. Expand Trials\n",
    "\n",
    "Expanding the data involves replicating each patient's baseline row for multiple trial periods (e.g., 0 to 7). This creates a sequence of target trial datasets where each row represents one trial period, and a new column `followup_time` is added."
   ]
  },
  {
   "metadata": {
    "ExecuteTime": {
     "end_time": "2025-03-09T07:02:03.259337Z",
     "start_time": "2025-03-09T07:02:03.228021Z"
    }
   },
   "cell_type": "code",
   "source": [
    "def expand_trials(data, chunk_size=500, first_period=0, last_period=None):\n",
    "    \"\"\"\n",
    "    Expand the data into multiple trial periods.\n",
    "\n",
    "    Parameters:\n",
    "        data (DataFrame): Baseline data.\n",
    "        chunk_size (int): Number of patients per chunk (not used in this simple example).\n",
    "        first_period (int): Starting trial period.\n",
    "        last_period (int, optional): Ending trial period; if None, default to first_period+7.\n",
    "\n",
    "    Returns:\n",
    "        DataFrame: Expanded data with 'trial_period' and 'followup_time' columns.\n",
    "    \"\"\"\n",
    "    if last_period is None:\n",
    "        last_period = first_period + 7  # e.g., 0 to 7\n",
    "\n",
    "    expanded_list = []\n",
    "    for pid, group in data.groupby(\"id\"):\n",
    "        baseline = group.iloc[0].to_dict()\n",
    "        for trial_period in range(first_period, last_period + 1):\n",
    "            row = baseline.copy()\n",
    "            row[\"trial_period\"] = trial_period\n",
    "            row[\"followup_time\"] = trial_period\n",
    "            expanded_list.append(row)\n",
    "    return pd.DataFrame(expanded_list)\n",
    "\n",
    "trial_pp_expanded = expand_trials(trial_pp['data'], chunk_size=500)\n",
    "trial_itt_expanded = expand_trials(trial_itt['data'], chunk_size=500)\n",
    "\n",
    "print(\"\\nExpanded PP data (first few rows):\")\n",
    "print(trial_pp_expanded.head())\n",
    "print(\"\\nExpanded ITT data (first few rows):\")\n",
    "print(trial_itt_expanded.head())\n"
   ],
   "outputs": [
    {
     "name": "stdout",
     "output_type": "stream",
     "text": [
      "\n",
      "Expanded PP data (first few rows):\n",
      "   id  period  treatment  x1        x2  x3        x4  age     age_s  outcome  \\\n",
      "0   1       0          1   1  1.146148   0  0.734203   36  0.083333        0   \n",
      "1   1       0          1   1  1.146148   0  0.734203   36  0.083333        0   \n",
      "2   1       0          1   1  1.146148   0  0.734203   36  0.083333        0   \n",
      "3   1       0          1   1  1.146148   0  0.734203   36  0.083333        0   \n",
      "4   1       0          1   1  1.146148   0  0.734203   36  0.083333        0   \n",
      "\n",
      "   censored  eligible  switch_weight  not_censored  censor_weight  PP_weight  \\\n",
      "0         0         1       0.930088             1       0.955481   0.888682   \n",
      "1         0         1       0.930088             1       0.955481   0.888682   \n",
      "2         0         1       0.930088             1       0.955481   0.888682   \n",
      "3         0         1       0.930088             1       0.955481   0.888682   \n",
      "4         0         1       0.930088             1       0.955481   0.888682   \n",
      "\n",
      "  adjustment_terms  trial_period  followup_time  \n",
      "0                              0              0  \n",
      "1                              1              1  \n",
      "2                              2              2  \n",
      "3                              3              3  \n",
      "4                              4              4  \n",
      "\n",
      "Expanded ITT data (first few rows):\n",
      "   id  period  treatment  x1        x2  x3        x4  age     age_s  outcome  \\\n",
      "0   1       0          1   1  1.146148   0  0.734203   36  0.083333        0   \n",
      "1   1       0          1   1  1.146148   0  0.734203   36  0.083333        0   \n",
      "2   1       0          1   1  1.146148   0  0.734203   36  0.083333        0   \n",
      "3   1       0          1   1  1.146148   0  0.734203   36  0.083333        0   \n",
      "4   1       0          1   1  1.146148   0  0.734203   36  0.083333        0   \n",
      "\n",
      "   censored  eligible  not_censored  censor_weight  ITT_weight  \\\n",
      "0         0         1             1       0.955481    0.955481   \n",
      "1         0         1             1       0.955481    0.955481   \n",
      "2         0         1             1       0.955481    0.955481   \n",
      "3         0         1             1       0.955481    0.955481   \n",
      "4         0         1             1       0.955481    0.955481   \n",
      "\n",
      "  adjustment_terms  trial_period  followup_time  \n",
      "0               x2             0              0  \n",
      "1               x2             1              1  \n",
      "2               x2             2              2  \n",
      "3               x2             3              3  \n",
      "4               x2             4              4  \n"
     ]
    }
   ],
   "execution_count": 42
  },
  {
   "metadata": {},
   "cell_type": "markdown",
   "source": [
    "## 7. Load or Sample from Expanded Data\n",
    "\n",
    "For ITT analyses, you might sample control observations to reduce data size. In this example, we retain all events (outcome == 1) and randomly sample 50% of non-event rows."
   ]
  },
  {
   "metadata": {
    "ExecuteTime": {
     "end_time": "2025-03-09T07:02:03.295776Z",
     "start_time": "2025-03-09T07:02:03.288590Z"
    }
   },
   "cell_type": "code",
   "source": [
    "def load_expanded_data(data, seed=1234, p_control=0.5):\n",
    "    \"\"\"\n",
    "    Sample the expanded data: keep all events and sample non-events.\n",
    "\n",
    "    Parameters:\n",
    "        data (DataFrame): Expanded data.\n",
    "        seed (int): Random seed.\n",
    "        p_control (float): Fraction of non-events to keep.\n",
    "\n",
    "    Returns:\n",
    "        DataFrame: Sampled expanded data.\n",
    "    \"\"\"\n",
    "    np.random.seed(seed)\n",
    "    events = data[data[\"outcome\"] == 1]\n",
    "    non_events = data[data[\"outcome\"] == 0].sample(frac=p_control, random_state=seed)\n",
    "    return pd.concat([events, non_events], ignore_index=True)\n",
    "\n",
    "trial_itt_loaded = load_expanded_data(trial_itt_expanded, seed=1234, p_control=0.5)\n",
    "print(\"\\nNumber of ITT expanded observations after sampling:\", trial_itt_loaded.shape[0])"
   ],
   "outputs": [
    {
     "name": "stdout",
     "output_type": "stream",
     "text": [
      "\n",
      "Number of ITT expanded observations after sampling: 364\n"
     ]
    }
   ],
   "execution_count": 43
  },
  {
   "metadata": {},
   "cell_type": "markdown",
   "source": [
    "## 8. Fit Marginal Structural Model (MSM)\n",
    "\n",
    "We fit a weighted logistic regression (MSM) to estimate the outcome model. For ITT:\n",
    "\n",
    "- We set `assigned_treatment` equal to the observed treatment.\n",
    "- Create quadratic terms for `followup_time` and `trial_period`.\n",
    "- Merge ITT weights (unique per patient).\n",
    "- Winsorize extreme weights (cap at the 99th percentile).\n",
    "- Fit the model using `statsmodels.GLM`."
   ]
  },
  {
   "metadata": {
    "ExecuteTime": {
     "end_time": "2025-03-09T07:02:03.380807Z",
     "start_time": "2025-03-09T07:02:03.335455Z"
    }
   },
   "cell_type": "code",
   "source": [
    "# For ITT: prepare the data for outcome modeling\n",
    "trial_itt_loaded = trial_itt_loaded.copy()\n",
    "trial_itt_loaded[\"assigned_treatment\"] = trial_itt_loaded[\"treatment\"]\n",
    "trial_itt_loaded[\"followup_time_sq\"] = trial_itt_loaded[\"followup_time\"] ** 2\n",
    "trial_itt_loaded[\"trial_period_sq\"] = trial_itt_loaded[\"trial_period\"] ** 2\n",
    "\n",
    "# Merge in ITT weights from the original trial_itt data (one per patient)\n",
    "weights_df = trial_itt['data'][[\"id\"]].drop_duplicates()\n",
    "trial_itt_loaded = trial_itt_loaded.merge(weights_df, on=\"id\", how=\"left\")\n",
    "\n",
    "# Winsorize weights: cap at 99th percentile\n",
    "w99 = trial_itt_loaded[\"ITT_weight\"].quantile(0.99)\n",
    "trial_itt_loaded[\"winsorized_weight\"] = np.minimum(trial_itt_loaded[\"ITT_weight\"], w99)\n",
    "\n",
    "# Define predictors per outcome model specification:\n",
    "# outcome ~ assigned_treatment + x2 + followup_time + followup_time^2 + trial_period + trial_period^2\n",
    "predictors = [\"assigned_treatment\", \"x2\", \"followup_time\", \"followup_time_sq\", \"trial_period\", \"trial_period_sq\"]\n",
    "X = trial_itt_loaded[predictors]\n",
    "X = sm.add_constant(X)\n",
    "y = trial_itt_loaded[\"outcome\"]\n",
    "\n",
    "# Fit the weighted logistic regression (MSM)\n",
    "msm_model = sm.GLM(y, X, family=sm.families.Binomial(), freq_weights=trial_itt_loaded[\"winsorized_weight\"]).fit()\n",
    "print(\"\\nMarginal Structural Model (MSM) Summary:\")\n",
    "print(msm_model.summary())"
   ],
   "outputs": [
    {
     "name": "stdout",
     "output_type": "stream",
     "text": [
      "\n",
      "Marginal Structural Model (MSM) Summary:\n",
      "                 Generalized Linear Model Regression Results                  \n",
      "==============================================================================\n",
      "Dep. Variable:                outcome   No. Observations:                  364\n",
      "Model:                            GLM   Df Residuals:                   359.49\n",
      "Model Family:                Binomial   Df Model:                            4\n",
      "Link Function:                  Logit   Scale:                          1.0000\n",
      "Method:                          IRLS   Log-Likelihood:                -51.179\n",
      "Date:                Sun, 09 Mar 2025   Deviance:                       102.36\n",
      "Time:                        15:02:03   Pearson chi2:                     224.\n",
      "No. Iterations:                    24   Pseudo R-squ. (CS):            0.07088\n",
      "Covariance Type:            nonrobust                                         \n",
      "======================================================================================\n",
      "                         coef    std err          z      P>|z|      [0.025      0.975]\n",
      "--------------------------------------------------------------------------------------\n",
      "const                -25.5515   1.62e+04     -0.002      0.999   -3.17e+04    3.16e+04\n",
      "assigned_treatment    23.0807   1.62e+04      0.001      0.999   -3.16e+04    3.17e+04\n",
      "x2                     0.6936      0.273      2.542      0.011       0.159       1.228\n",
      "followup_time         -0.0465      0.214     -0.217      0.828      -0.466       0.373\n",
      "followup_time_sq       0.0056      0.030      0.189      0.850      -0.052       0.064\n",
      "trial_period          -0.0465      0.214     -0.217      0.828      -0.466       0.373\n",
      "trial_period_sq        0.0056      0.030      0.189      0.850      -0.052       0.064\n",
      "======================================================================================\n"
     ]
    }
   ],
   "execution_count": 44
  },
  {
   "metadata": {},
   "cell_type": "markdown",
   "source": [
    "## 9. Inference\n",
    "\n",
    "Finally, we use the fitted MSM to generate predictions for survival probabilities over follow-up time. We create two new prediction datasets for a range of follow-up times (0–10) at a fixed trial period (1), one for the control scenario (`assigned_treatment` = 0) and one for the treated scenario (`assigned_treatment` = 1). Survival probabilities are computed as 1 minus the predicted risk, and we plot the survival difference along with illustrative confidence bands."
   ]
  },
  {
   "metadata": {
    "ExecuteTime": {
     "end_time": "2025-03-09T07:02:03.624436Z",
     "start_time": "2025-03-09T07:02:03.470396Z"
    }
   },
   "cell_type": "code",
   "source": [
    "# Define prediction follow-up times from 0 to 10\n",
    "predict_times = np.arange(0, 11)\n",
    "x2_mean = trial_itt_loaded[\"x2\"].mean()\n",
    "\n",
    "# Create prediction dataset for control (assigned_treatment = 0)\n",
    "new_data_0 = pd.DataFrame({\n",
    "    \"const\": 1,\n",
    "    \"assigned_treatment\": 0,\n",
    "    \"x2\": x2_mean,\n",
    "    \"followup_time\": predict_times,\n",
    "    \"followup_time_sq\": predict_times**2,\n",
    "    \"trial_period\": 1,\n",
    "    \"trial_period_sq\": np.ones_like(predict_times)\n",
    "})\n",
    "\n",
    "# Create prediction dataset for treated (assigned_treatment = 1)\n",
    "new_data_1 = new_data_0.copy()\n",
    "new_data_1[\"assigned_treatment\"] = 1\n",
    "\n",
    "# Generate predicted risk probabilities\n",
    "pred_0 = msm_model.predict(new_data_0)\n",
    "pred_1 = msm_model.predict(new_data_1)\n",
    "\n",
    "# Convert risk to survival probability: survival = 1 - risk\n",
    "surv_0 = 1 - pred_0\n",
    "surv_1 = 1 - pred_1\n",
    "\n",
    "# Compute survival difference: treated minus control\n",
    "surv_diff = surv_1 - surv_0\n",
    "\n",
    "# For illustration, assume simple confidence intervals (±0.05)\n",
    "ci_lower = surv_diff - 0.05\n",
    "ci_upper = surv_diff + 0.05\n",
    "\n",
    "# Plot survival difference over follow-up time\n",
    "plt.figure(figsize=(8, 5))\n",
    "plt.plot(predict_times, surv_diff, label=\"Survival Difference (Treated - Control)\", color=\"blue\", linewidth=2)\n",
    "plt.plot(predict_times, ci_lower, label=\"2.5% CI\", linestyle=\"--\", color=\"red\")\n",
    "plt.plot(predict_times, ci_upper, label=\"97.5% CI\", linestyle=\"--\", color=\"red\")\n",
    "plt.xlabel(\"Follow-up Time\")\n",
    "plt.ylabel(\"Survival Difference\")\n",
    "plt.title(\"Predicted Survival Difference Over Follow-up Time\")\n",
    "plt.legend()\n",
    "plt.show()"
   ],
   "outputs": [
    {
     "data": {
      "text/plain": [
       "<Figure size 800x500 with 1 Axes>"
      ],
      "image/png": "[encoded data removed]"
     },
     "metadata": {},
     "output_type": "display_data"
    }
   ],
   "execution_count": 45
  },
  {
   "metadata": {},
   "cell_type": "markdown",
   "source": [
    "## Deep Insights from the Survival Difference Plot\n",
    "\n",
    "Below are some observations and reflections on the **Predicted Survival Difference Over Follow-up Time** plot you shared, where the **y-axis** is the difference in survival probabilities between the **treated** and **control** groups, and the **x-axis** represents the **follow-up time** (0 to 10 units). The solid blue line shows the estimated survival difference, while the red dashed lines indicate the approximate 2.5% and 97.5% confidence intervals (CIs).\n",
    "\n",
    "### 1. Overall Negative Survival Difference\n",
    "\n",
    "1. **Interpretation of Negative Values:**\n",
    "   The plotted difference (treated minus control) appears consistently **below zero** across all follow-up times. This implies that, in this particular dataset and analysis, the **treated group has a slightly lower survival probability** compared to the control group at each time point.\n",
    "\n",
    "2. **Magnitude of the Effect:**\n",
    "   - The difference hovers around **-0.08**, meaning there is about an 8% lower survival probability in the treated group relative to the control group (if all other assumptions and model specifications hold).\n",
    "   - The 2.5% and 97.5% CIs (the red dashed lines) remain below zero, suggesting that the **analysis is reasonably confident** in a negative difference.\n",
    "\n",
    "3. **Clinical or Practical Implication:**\n",
    "   - If these results hold after further scrutiny, it could mean the treatment might not be beneficial, or it could even be **harmful** in this population.\n",
    "   - Alternatively, it might reflect **unmeasured confounding** or other biases if the observational data isn’t perfectly adjusted.\n",
    "\n",
    "### 2. Stability Over Time\n",
    "\n",
    "1. **Relatively Flat Curve:**\n",
    "   The survival difference does not appear to fluctuate wildly; it remains in a similar range from follow-up time 0 through 10. This suggests that **the gap between treated and control** is relatively consistent throughout the observed period.\n",
    "\n",
    "2. **Confidence Intervals:**\n",
    "   - The dashed lines remain **narrowly spaced**, indicating that **uncertainty** in our estimate is not excessively large.\n",
    "   - The intervals do not cross zero, further reinforcing that the effect is likely negative.\n",
    "\n",
    "### 3. Potential Reasons for a Negative Difference\n",
    "\n",
    "1. **Underlying Confounding Factors:**\n",
    "   - Despite adjusting for known covariates (via IPW for censoring and possibly treatment switching), there could be **residual confounding** if not all relevant factors were measured or modeled correctly.\n",
    "   - This is especially pertinent if patients in the treated group had systematically worse prognoses or comorbidities that were not fully captured in the dataset.\n",
    "\n",
    "2. **Adverse Treatment Effects:**\n",
    "   - The negative difference might indicate the treatment is **truly detrimental** in this context. Perhaps side effects or other negative outcomes overshadow any benefits.\n",
    "\n",
    "3. **Selection Bias or Data Issues:**\n",
    "   - If the observational data has certain biases (e.g., missing data, measurement errors, or incorrectly specified weight models), these could skew the estimated survival difference.\n",
    "\n",
    "### 4. Recommendations for Further Analysis\n",
    "\n",
    "1. **Assess Model Specifications:**\n",
    "   - Double-check the variables included in the outcome model and weight models (e.g., are “age,” “x1,” “x2,” “x3,” etc. all properly included?).\n",
    "   - Ensure the IPW calculations (for censoring and/or treatment switching) are stable and that extreme weights have been handled (e.g., by winsorization).\n",
    "\n",
    "2. **Sensitivity Analyses:**\n",
    "   - Consider alternative modeling strategies, such as including additional covariates, using different functional forms for age or follow-up time, or applying alternative robust weighting methods.\n",
    "   - Perform a **placebo test** or negative control check, if feasible, to detect potential unmeasured confounding.\n",
    "\n",
    "3. **Check the Nature of the Treatment:**\n",
    "   - If you have domain knowledge about the treatment, investigate whether a **slight harm** might be expected.\n",
    "   - In real-world observational data, treatments could be prescribed to sicker patients, leading to negative survival differences unless well-adjusted.\n",
    "\n",
    "4. **Examine Period-Specific or Subgroup Effects:**\n",
    "   - Break down the analysis by smaller time windows or patient subgroups to see if the negative difference is uniform or driven by certain subsets of patients.\n"
   ]
  }
 ],
 "metadata": {
  "kernelspec": {
   "display_name": "Python 3 (ipykernel)",
   "language": "python",
   "name": "python3"
  },
  "language_info": {
   "codemirror_mode": {
    "name": "ipython",
    "version": 3
   },
   "file_extension": ".py",
   "mimetype": "text/x-python",
   "name": "python",
   "nbconvert_exporter": "python",
   "pygments_lexer": "ipython3",
   "version": "3.11.4"
  }
 },
 "nbformat": 4,
 "nbformat_minor": 2
}
