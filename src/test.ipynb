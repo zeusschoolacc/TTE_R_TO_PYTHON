{
 "cells": [
  {
   "metadata": {},
   "cell_type": "markdown",
   "source": [
    "## Comprehensive Explanation of the Python TrialSequence Class\n",
    "Below is a high-level overview of a Python codebase that translates the core logic of the R `trial_sequence` class (commonly used in target trial emulation packages) into Python. The goal is to provide a structure where data, weights, and outcome models can be managed in a similar way to R.\n",
    "\n",
    "### Purpose and Context\n",
    "In R, the `trial_sequence` class (from libraries like TrialEmulation) manages data, weights, and outcome models in a target trial framework. This Python translation follows the same conceptual steps:\n",
    "\n",
    "1. **Data Management**: Setting raw data, mapping columns, and expanding the data over multiple time periods.\n",
    "2. **Weighting**: Setting and calculating weights for switching (treatment changes) and censoring.\n",
    "3. **Outcome Modeling**: Defining an outcome model and fitting a marginal structural model (MSM).\n",
    "4. **Subsetting and Loading**: Optionally filtering or sampling data from the expanded trial.\n",
    "\n",
    "Since Python does not have built-in S4 classes, the code uses a single Python class, TrialSequence, with various methods that correspond to the R generics.\n",
    "\n",
    "### Dummy Functions\n",
    "Two helper functions illustrate how you might integrate external logic:\n",
    "\n",
    "- `stats_glm_logit(save_path=None)`: Acts as a placeholder for a logistic regression model fitter. In a real application, you would replace this with actual model-fitting routines, such as from statsmodels or scikit-learn.\n",
    "\n",
    "- `save_to_csv(output_dir)`: Represents a placeholder for saving data to CSV. In practice, you could implement real file-writing or database export logic.\n",
    "\n",
    "### The TrialSequence Class\n",
    "##### Core Attributes\n",
    "- `estimand`: A string specifying the type of analysis (for example, “ITT” or “PP”).\n",
    "- `data`: The main DataFrame containing person-time records.\n",
    "- `outcome_data`: A separate DataFrame that can store data after expansion or subsetting.\n",
    "- `data_mapping`: A dictionary mapping internal fields like \"id\", \"period\", \"treatment\" to column names in data.\n",
    "- `expansion`: A dictionary containing parameters for data expansion, such as chunk size and the first/last period.\n",
    "- `outcome_model`: A dictionary describing how to fit the outcome model, including formulas and a model fitter.\n",
    "- `switch_weights and censor_weights`: Dictionaries holding formulas and model-fitting instructions for switching and censoring weight models, respectively.\n",
    "\n",
    "### Methods Overview\n",
    "1. `set_data(...)`\n",
    "    - Assigns a DataFrame to self.data and updates data_mapping. This mimics the R method set_data(trial_sequence, data, ...).\n",
    "\n",
    "2. `set_switch_weight_model(...) / set_censor_weight_model(...)`\n",
    "    - Saves the relevant formulas and a model fitter for calculating switching or censoring weights. These correspond to S4 methods in R such as set_switch_weight_model(trial_sequence, ...).\n",
    "\n",
    "3. `calculate_weights(...)`\n",
    "    - Simulates the calculation of IP weights. In real usage, you would implement logic for inverse probability weighting. Here, it simply sets columns like \"switch_weight\" or \"censor_weight\" to a constant value, then creates a combined \"weight\" column if it does not already exist.\n",
    "\n",
    "4. `show_weight_models(...)`\n",
    "    - Prints summaries of the switching and censoring weight models, mirroring the R function show_weight_models(trial_sequence).\n",
    "\n",
    "5. `set_outcome_model(...)`\n",
    "    - Defines outcome model parameters, such as the treatment variable, adjustment terms, follow-up time terms, and a model fitter. This parallels set_outcome_model(trial_sequence, ...) in R.\n",
    "\n",
    "6. `set_expansion_options(...)`\n",
    "    - Stores details about how to expand the data. In R, you would call set_expansion_options(trial_sequence, output, chunk_size, ...).\n",
    "\n",
    "7. `expand_trials(...)`\n",
    "    - Filters data according to first_period and last_period, then divides the data into chunks (printing messages as if saving them). In a real scenario, the data might be written to disk. This corresponds to expand_trials(trial_sequence) in R.\n",
    "\n",
    "8. `_fit_outcome_model(...)`\n",
    "    - An internal method called by fit_msm. Returns a summary string that references the model fitter and mean weight. Real implementations would use actual regression or survival modeling.\n",
    "\n",
    "9. `fit_msm(...)`\n",
    "    - Combines weights (by multiplying columns like \"weight\" and \"sample_weight\") and optionally applies a user-supplied function (modify_weights) for truncation or smoothing. Then calls _fit_outcome_model to produce a dummy fitted result. This mimics fit_msm(trial_sequence, ...) in R.\n",
    "\n",
    "10. `load_expanded_data(...)`\n",
    "    - Subsets or samples the expanded data and stores it in outcome_data. This can involve filtering by period, applying a query string, or sampling controls with p_control. In R, you might see load_expanded_data(trial_sequence, ...).\n",
    "\n",
    "\n",
    "### Key Takeaways\n",
    "1. **Structural Translation**: This Python class is structurally similar to the R trial_sequence S4 class, allowing you to define data, set models, compute weights, and fit MSMs.\n",
    "2. **Dummy Logic**: The actual statistical methods (logistic regression, IP weighting) are replaced with placeholders. You can integrate statsmodels or other Python libraries to replicate the R methods fully.\n",
    "3. **Workflow Parity**: The methods (set_data, set_switch_weight_model, calculate_weights, expand_trials, fit_msm, etc.) mimic the R function names and usage patterns.\n",
    "4. **Extendability**: You can adapt or extend this code to handle real-world data, advanced weighting schemes, or more sophisticated modeling—just replace the placeholders with your actual logic."
   ],
   "id": "96f01f3408cc6b6b"
  },
  {
   "cell_type": "code",
   "id": "initial_id",
   "metadata": {
    "collapsed": true,
    "ExecuteTime": {
     "end_time": "2025-03-09T06:25:23.595913Z",
     "start_time": "2025-03-09T06:25:23.567364Z"
    }
   },
   "source": [
    "import pandas as pd\n",
    "import numpy as np\n",
    "import math\n",
    "import matplotlib.pyplot as plt\n",
    "\n",
    "def stats_glm_logit(save_path=None):\n",
    "    \"\"\"\n",
    "    Dummy model fitter function to mimic a te_model_fitter object.\n",
    "    Replace this with your actual logistic regression model fitter.\n",
    "    \"\"\"\n",
    "    return f\"GLM_Logit_Model_Fitter(save_path={save_path})\"\n",
    "\n",
    "def save_to_csv(output_dir):\n",
    "    \"\"\"\n",
    "    Dummy function to mimic a te_datastore object as created by save_to_csv().\n",
    "    In practice, this would configure a datastore for writing CSV files.\n",
    "    \"\"\"\n",
    "    return f\"te_datastore_csv({output_dir})\"\n",
    "\n",
    "class TrialSequence:\n",
    "    \"\"\"\n",
    "    TrialSequence class\n",
    "\n",
    "    Attributes:\n",
    "        estimand (str): Descriptive name of the estimand.\n",
    "        data (pd.DataFrame): Expanded trial data in long (person-time) format.\n",
    "        outcome_data (pd.DataFrame): Outcome data loaded via load_expanded_data.\n",
    "        data_mapping (dict): Mapping of variable names (e.g., \"period\", \"treatment\", etc.).\n",
    "        expansion: Options for data expansion.\n",
    "        outcome_model (dict): Outcome model specifications.\n",
    "        censor_weight: Object for informative censoring weights.\n",
    "        switch_weights (dict): Parameters for switching weight models.\n",
    "        censor_weights (dict): Parameters for censoring weight models.\n",
    "    \"\"\"\n",
    "    __slots__ = [\n",
    "        'estimand', 'data', 'outcome_data', 'data_mapping', 'expansion',\n",
    "        'outcome_model', 'censor_weight', 'switch_weights', 'censor_weights'\n",
    "    ]\n",
    "\n",
    "    def __init__(self, estimand, data=None, expansion=None, outcome_model=None,\n",
    "                 outcome_data=None, censor_weight=None):\n",
    "        self.estimand = estimand\n",
    "        self.data = data\n",
    "        self.expansion = expansion\n",
    "        self.outcome_model = outcome_model\n",
    "        self.outcome_data = outcome_data\n",
    "        self.censor_weight = censor_weight\n",
    "        self.data_mapping = {}\n",
    "        self.switch_weights = {}\n",
    "        self.censor_weights = {}\n",
    "\n",
    "    def set_data(self, data, id=\"id\", period=\"period\", treatment=\"treatment\",\n",
    "                 outcome=\"outcome\", eligible=\"eligible\"):\n",
    "        self.data = data\n",
    "        self.data_mapping = {\n",
    "            \"id\": id,\n",
    "            \"period\": period,\n",
    "            \"treatment\": treatment,\n",
    "            \"outcome\": outcome,\n",
    "            \"eligible\": eligible,\n",
    "        }\n",
    "        return self\n",
    "\n",
    "    def set_switch_weight_model(self, numerator, denominator, model_fitter,\n",
    "                                eligible_wts_0=None, eligible_wts_1=None):\n",
    "        self.switch_weights = {\n",
    "            \"numerator\": numerator,\n",
    "            \"denominator\": denominator,\n",
    "            \"model_fitter\": model_fitter,\n",
    "            \"eligible_wts_0\": eligible_wts_0,\n",
    "            \"eligible_wts_1\": eligible_wts_1,\n",
    "        }\n",
    "        return self\n",
    "\n",
    "    def set_censor_weight_model(self, censor_event, numerator, denominator,\n",
    "                                pool_models=None, model_fitter=None):\n",
    "        if pool_models is None:\n",
    "            pool_models = \"numerator\" if self.estimand == \"ITT\" else \"none\"\n",
    "        self.censor_weights = {\n",
    "            \"censor_event\": censor_event,\n",
    "            \"numerator\": numerator,\n",
    "            \"denominator\": denominator,\n",
    "            \"pool_models\": pool_models,\n",
    "            \"model_fitter\": model_fitter,\n",
    "        }\n",
    "        return self\n",
    "\n",
    "    def calculate_weights(self, quiet=False, **kwargs):\n",
    "        \"\"\"\n",
    "        Calculate weights based on the specified switching and censor models.\n",
    "        This dummy implementation assigns constant weights and then creates a \"weight\" column.\n",
    "        \"\"\"\n",
    "        if self.data is None:\n",
    "            raise ValueError(\"No data has been set. Please use set_data() to provide data.\")\n",
    "\n",
    "        # Simulate switching weight calculation.\n",
    "        if self.switch_weights and self.switch_weights.get(\"model_fitter\"):\n",
    "            self.data[\"switch_weight\"] = 1.0  # Dummy calculation\n",
    "            self.switch_weights[\"calculated\"] = True\n",
    "            if not quiet:\n",
    "                print(\"Switch weight model summary:\")\n",
    "                print(\"  Numerator formula:\", self.switch_weights.get(\"numerator\"))\n",
    "                print(\"  Denominator formula:\", self.switch_weights.get(\"denominator\"))\n",
    "                print(\"  Model fitter:\", self.switch_weights.get(\"model_fitter\"))\n",
    "\n",
    "        # Simulate censor weight calculation.\n",
    "        if self.censor_weights and self.censor_weights.get(\"model_fitter\"):\n",
    "            self.data[\"censor_weight\"] = 1.0  # Dummy calculation\n",
    "            self.censor_weights[\"calculated\"] = True\n",
    "            if not quiet:\n",
    "                print(\"Censor weight model summary:\")\n",
    "                print(\"  Censor event column:\", self.censor_weights.get(\"censor_event\"))\n",
    "                print(\"  Numerator formula:\", self.censor_weights.get(\"numerator\"))\n",
    "                print(\"  Denominator formula:\", self.censor_weights.get(\"denominator\"))\n",
    "                print(\"  Pool models option:\", self.censor_weights.get(\"pool_models\"))\n",
    "                print(\"  Model fitter:\", self.censor_weights.get(\"model_fitter\"))\n",
    "\n",
    "        # --- FIX: Create a \"weight\" column ---\n",
    "        if \"weight\" not in self.data.columns:\n",
    "            if \"switch_weight\" in self.data.columns and \"censor_weight\" in self.data.columns:\n",
    "                self.data[\"weight\"] = self.data[\"switch_weight\"] * self.data[\"censor_weight\"]\n",
    "            elif \"switch_weight\" in self.data.columns:\n",
    "                self.data[\"weight\"] = self.data[\"switch_weight\"]\n",
    "            elif \"censor_weight\" in self.data.columns:\n",
    "                self.data[\"weight\"] = self.data[\"censor_weight\"]\n",
    "            else:\n",
    "                self.data[\"weight\"] = 1.0\n",
    "            if not quiet:\n",
    "                print(\"Created 'weight' column from available weight components.\")\n",
    "\n",
    "        return self\n",
    "\n",
    "    def show_weight_models(self):\n",
    "        print(\"\\nWeight Models Summary:\")\n",
    "        if self.switch_weights.get(\"calculated\"):\n",
    "            print(\"Switch Weight Model:\")\n",
    "            print(\"  Numerator formula:\", self.switch_weights.get(\"numerator\"))\n",
    "            print(\"  Denominator formula:\", self.switch_weights.get(\"denominator\"))\n",
    "            print(\"  Model fitter:\", self.switch_weights.get(\"model_fitter\"))\n",
    "        else:\n",
    "            print(\"Switch Weight Model: Not calculated or not set.\")\n",
    "        if self.censor_weights.get(\"calculated\"):\n",
    "            print(\"Censor Weight Model:\")\n",
    "            print(\"  Censor event column:\", self.censor_weights.get(\"censor_event\"))\n",
    "            print(\"  Numerator formula:\", self.censor_weights.get(\"numerator\"))\n",
    "            print(\"  Denominator formula:\", self.censor_weights.get(\"denominator\"))\n",
    "            print(\"  Pool models option:\", self.censor_weights.get(\"pool_models\"))\n",
    "            print(\"  Model fitter:\", self.censor_weights.get(\"model_fitter\"))\n",
    "        else:\n",
    "            print(\"Censor Weight Model: Not calculated or not set.\")\n",
    "\n",
    "    def set_outcome_model(self, treatment_var=None, adjustment_terms=None,\n",
    "                          followup_time_terms=None, trial_period_terms=None,\n",
    "                          model_fitter=None):\n",
    "        if treatment_var is None:\n",
    "            treatment_var = \"assigned_treatment\" if self.estimand in [\"ITT\", \"PP\"] else \"~0\"\n",
    "        if adjustment_terms is None:\n",
    "            adjustment_terms = \"~1\"\n",
    "        if followup_time_terms is None:\n",
    "            followup_time_terms = \"~followup_time + I(followup_time^2)\"\n",
    "        if trial_period_terms is None:\n",
    "            trial_period_terms = \"~trial_period + I(trial_period^2)\"\n",
    "        self.outcome_model = {\n",
    "            \"treatment_var\": treatment_var,\n",
    "            \"adjustment_terms\": adjustment_terms,\n",
    "            \"followup_time_terms\": followup_time_terms,\n",
    "            \"trial_period_terms\": trial_period_terms,\n",
    "            \"model_fitter\": model_fitter,\n",
    "        }\n",
    "        return self\n",
    "\n",
    "    def set_expansion_options(self, output, chunk_size, first_period=0, last_period=math.inf):\n",
    "        self.expansion = {\n",
    "            \"output\": output,\n",
    "            \"chunk_size\": chunk_size,\n",
    "            \"first_period\": first_period,\n",
    "            \"last_period\": last_period\n",
    "        }\n",
    "        return self\n",
    "\n",
    "    def expand_trials(self):\n",
    "        \"\"\"\n",
    "        Expand the trial data according to the expansion options.\n",
    "        This dummy implementation filters data based on period limits, splits into chunks,\n",
    "        and then reassembles the chunks.\n",
    "        \"\"\"\n",
    "        if self.expansion is None:\n",
    "            print(\"No expansion options set. Returning original trial sequence.\")\n",
    "            return self\n",
    "        if self.data is None:\n",
    "            raise ValueError(\"No data has been set. Please use set_data() to provide data.\")\n",
    "\n",
    "        output = self.expansion.get(\"output\")\n",
    "        chunk_size = self.expansion.get(\"chunk_size\")\n",
    "        first_period = self.expansion.get(\"first_period\")\n",
    "        last_period = self.expansion.get(\"last_period\")\n",
    "        period_col = self.data_mapping.get(\"period\", \"period\")\n",
    "        expanded_data = self.data.copy()\n",
    "        if period_col in expanded_data.columns:\n",
    "            if not math.isinf(last_period):\n",
    "                expanded_data = expanded_data[(expanded_data[period_col] >= first_period) &\n",
    "                                              (expanded_data[period_col] <= last_period)]\n",
    "            else:\n",
    "                expanded_data = expanded_data[expanded_data[period_col] >= first_period]\n",
    "        else:\n",
    "            print(f\"Warning: Period column '{period_col}' not found in data.\")\n",
    "\n",
    "        num_records = len(expanded_data)\n",
    "        num_chunks = math.ceil(num_records / chunk_size)\n",
    "        print(f\"Expanding trials: {num_records} records will be divided into {num_chunks} chunk(s).\")\n",
    "        chunks = []\n",
    "        for i in range(num_chunks):\n",
    "            start_idx = i * chunk_size\n",
    "            end_idx = start_idx + chunk_size\n",
    "            chunk = expanded_data.iloc[start_idx:end_idx]\n",
    "            chunks.append(chunk)\n",
    "            print(f\"Saving chunk {i + 1}/{num_chunks} to datastore: {output}\")\n",
    "\n",
    "        self.data = pd.concat(chunks, ignore_index=True)\n",
    "        print(\"Trial data expansion complete.\")\n",
    "        return self\n",
    "\n",
    "    def _fit_outcome_model(self, outcome_dataset, weights):\n",
    "        \"\"\"\n",
    "        Internal method to 'fit' the outcome marginal structural model.\n",
    "        This dummy implementation returns a summary string.\n",
    "        \"\"\"\n",
    "        model_fitter = self.outcome_model.get(\"model_fitter\")\n",
    "        mean_weight = weights.mean() if weights is not None else np.nan\n",
    "        fitted_summary = (f\"Fitted MSM using {model_fitter} with mean weight {mean_weight:.3f} \"\n",
    "                          f\"and adjustment_terms {self.outcome_model.get('adjustment_terms')}\")\n",
    "        return fitted_summary\n",
    "\n",
    "    def fit_msm(self, weight_cols=[\"weight\", \"sample_weight\"], modify_weights=None):\n",
    "        \"\"\"\n",
    "        Fit the outcome marginal structural model (MSM).\n",
    "        Combines weights from specified columns (default: \"weight\" and \"sample_weight\").\n",
    "        \"\"\"\n",
    "        outcome_dataset = self.outcome_data if self.outcome_data is not None else self.data\n",
    "        if outcome_dataset is None:\n",
    "            raise ValueError(\"No outcome data available. Please set data and expand trials before fitting MSM.\")\n",
    "\n",
    "        # Compute combined weights; if a column is missing, default to ones.\n",
    "        weights = pd.Series(1, index=outcome_dataset.index, dtype=float)\n",
    "        for col in weight_cols:\n",
    "            if col not in outcome_dataset.columns:\n",
    "                print(f\"Warning: Weight column '{col}' not found. Using default value 1 for this column.\")\n",
    "                temp = pd.Series(1, index=outcome_dataset.index, dtype=float)\n",
    "            else:\n",
    "                temp = outcome_dataset[col]\n",
    "            weights *= temp\n",
    "\n",
    "        # Optionally modify the weights.\n",
    "        if modify_weights is not None:\n",
    "            weights = modify_weights(weights)\n",
    "\n",
    "        fitted_summary = self._fit_outcome_model(outcome_dataset, weights)\n",
    "        self.outcome_model[\"fitted_model\"] = fitted_summary\n",
    "        print(\"Outcome MSM fitting complete.\")\n",
    "        print(\"Fitted outcome model summary:\")\n",
    "        print(fitted_summary)\n",
    "        return self\n",
    "\n",
    "    def load_expanded_data(self, p_control=None, period=None, subset_condition=None, seed=None):\n",
    "        \"\"\"\n",
    "        Load, subset, and optionally sample the expanded trial data.\n",
    "        The resulting data is stored in outcome_data.\n",
    "        \"\"\"\n",
    "        if self.data is None:\n",
    "            raise ValueError(\"No expanded data available. Please call expand_trials() first.\")\n",
    "        outcome_df = self.data.copy()\n",
    "        period_col = self.data_mapping.get(\"period\", \"period\")\n",
    "        if period is not None:\n",
    "            outcome_df = outcome_df[outcome_df[period_col].isin(period)]\n",
    "            print(f\"Data filtered to trial periods: {period}\")\n",
    "        if subset_condition is not None:\n",
    "            try:\n",
    "                outcome_df = outcome_df.query(subset_condition)\n",
    "                print(f\"Data subset using condition: {subset_condition}\")\n",
    "            except Exception as e:\n",
    "                raise ValueError(f\"Error applying subset_condition: {e}\")\n",
    "        if seed is not None:\n",
    "            np.random.seed(seed)\n",
    "            print(f\"Random seed set to: {seed}\")\n",
    "        if p_control is not None:\n",
    "            treatment_col = self.data_mapping.get(\"treatment\", \"treatment\")\n",
    "            is_control = outcome_df[treatment_col] == 0\n",
    "            controls = outcome_df[is_control]\n",
    "            treated = outcome_df[~is_control]\n",
    "            sampled_controls = controls.sample(frac=p_control, random_state=seed)\n",
    "            outcome_df = pd.concat([treated, sampled_controls], ignore_index=True)\n",
    "            print(f\"Control sampling applied with probability: {p_control}\")\n",
    "        self.outcome_data = outcome_df\n",
    "        print(\"Expanded outcome data loaded successfully.\")\n",
    "        return self\n",
    "\n",
    "    def __repr__(self):\n",
    "        return (f\"TrialSequence(estimand={self.estimand!r}, data_mapping={self.data_mapping}, \"\n",
    "                f\"outcome_model={self.outcome_model}, expansion={self.expansion})\")\n",
    "\n",
    "# --- Example modify_weights functions ---\n",
    "\n",
    "def limit_weight(lower_limit, upper_limit):\n",
    "    def limiter(w):\n",
    "        return w.clip(lower=lower_limit, upper=upper_limit)\n",
    "    return limiter\n",
    "\n",
    "def p99_weight(w):\n",
    "    lower = w.quantile(0.01)\n",
    "    upper = w.quantile(0.99)\n",
    "    return w.clip(lower=lower, upper=upper)\n",
    "\n",
    "def all_ones(w):\n",
    "    return pd.Series(1, index=w.index)\n"
   ],
   "outputs": [],
   "execution_count": 235
  },
  {
   "metadata": {},
   "cell_type": "code",
   "outputs": [],
   "execution_count": null,
   "source": "",
   "id": "2e8227d95c0ae806"
  },
  {
   "metadata": {
    "ExecuteTime": {
     "end_time": "2025-03-09T06:25:23.604055Z",
     "start_time": "2025-03-09T06:25:23.600391Z"
    }
   },
   "cell_type": "code",
   "source": [
    "trial_pp = TrialSequence(\"PP\")\n",
    "trial_itt = TrialSequence(\"ITT\")"
   ],
   "id": "e969b542504e076d",
   "outputs": [],
   "execution_count": 236
  },
  {
   "metadata": {
    "ExecuteTime": {
     "end_time": "2025-03-09T06:25:23.634489Z",
     "start_time": "2025-03-09T06:25:23.618021Z"
    }
   },
   "cell_type": "code",
   "source": [
    "data_censored = pd.read_csv(\"../data/data_censored.csv\")\n",
    "\n",
    "data_censored.head()"
   ],
   "id": "35e39ab968564163",
   "outputs": [
    {
     "data": {
      "text/plain": [
       "   id  period  treatment  x1        x2  x3        x4  age     age_s  outcome  \\\n",
       "0   1       0          1   1  1.146148   0  0.734203   36  0.083333        0   \n",
       "1   1       1          1   1  0.002200   0  0.734203   37  0.166667        0   \n",
       "2   1       2          1   0 -0.481762   0  0.734203   38  0.250000        0   \n",
       "3   1       3          1   0  0.007872   0  0.734203   39  0.333333        0   \n",
       "4   1       4          1   1  0.216054   0  0.734203   40  0.416667        0   \n",
       "\n",
       "   censored  eligible  \n",
       "0         0         1  \n",
       "1         0         0  \n",
       "2         0         0  \n",
       "3         0         0  \n",
       "4         0         0  "
      ],
      "text/html": [
       "<div>\n",
       "<style scoped>\n",
       "    .dataframe tbody tr th:only-of-type {\n",
       "        vertical-align: middle;\n",
       "    }\n",
       "\n",
       "    .dataframe tbody tr th {\n",
       "        vertical-align: top;\n",
       "    }\n",
       "\n",
       "    .dataframe thead th {\n",
       "        text-align: right;\n",
       "    }\n",
       "</style>\n",
       "<table border=\"1\" class=\"dataframe\">\n",
       "  <thead>\n",
       "    <tr style=\"text-align: right;\">\n",
       "      <th></th>\n",
       "      <th>id</th>\n",
       "      <th>period</th>\n",
       "      <th>treatment</th>\n",
       "      <th>x1</th>\n",
       "      <th>x2</th>\n",
       "      <th>x3</th>\n",
       "      <th>x4</th>\n",
       "      <th>age</th>\n",
       "      <th>age_s</th>\n",
       "      <th>outcome</th>\n",
       "      <th>censored</th>\n",
       "      <th>eligible</th>\n",
       "    </tr>\n",
       "  </thead>\n",
       "  <tbody>\n",
       "    <tr>\n",
       "      <th>0</th>\n",
       "      <td>1</td>\n",
       "      <td>0</td>\n",
       "      <td>1</td>\n",
       "      <td>1</td>\n",
       "      <td>1.146148</td>\n",
       "      <td>0</td>\n",
       "      <td>0.734203</td>\n",
       "      <td>36</td>\n",
       "      <td>0.083333</td>\n",
       "      <td>0</td>\n",
       "      <td>0</td>\n",
       "      <td>1</td>\n",
       "    </tr>\n",
       "    <tr>\n",
       "      <th>1</th>\n",
       "      <td>1</td>\n",
       "      <td>1</td>\n",
       "      <td>1</td>\n",
       "      <td>1</td>\n",
       "      <td>0.002200</td>\n",
       "      <td>0</td>\n",
       "      <td>0.734203</td>\n",
       "      <td>37</td>\n",
       "      <td>0.166667</td>\n",
       "      <td>0</td>\n",
       "      <td>0</td>\n",
       "      <td>0</td>\n",
       "    </tr>\n",
       "    <tr>\n",
       "      <th>2</th>\n",
       "      <td>1</td>\n",
       "      <td>2</td>\n",
       "      <td>1</td>\n",
       "      <td>0</td>\n",
       "      <td>-0.481762</td>\n",
       "      <td>0</td>\n",
       "      <td>0.734203</td>\n",
       "      <td>38</td>\n",
       "      <td>0.250000</td>\n",
       "      <td>0</td>\n",
       "      <td>0</td>\n",
       "      <td>0</td>\n",
       "    </tr>\n",
       "    <tr>\n",
       "      <th>3</th>\n",
       "      <td>1</td>\n",
       "      <td>3</td>\n",
       "      <td>1</td>\n",
       "      <td>0</td>\n",
       "      <td>0.007872</td>\n",
       "      <td>0</td>\n",
       "      <td>0.734203</td>\n",
       "      <td>39</td>\n",
       "      <td>0.333333</td>\n",
       "      <td>0</td>\n",
       "      <td>0</td>\n",
       "      <td>0</td>\n",
       "    </tr>\n",
       "    <tr>\n",
       "      <th>4</th>\n",
       "      <td>1</td>\n",
       "      <td>4</td>\n",
       "      <td>1</td>\n",
       "      <td>1</td>\n",
       "      <td>0.216054</td>\n",
       "      <td>0</td>\n",
       "      <td>0.734203</td>\n",
       "      <td>40</td>\n",
       "      <td>0.416667</td>\n",
       "      <td>0</td>\n",
       "      <td>0</td>\n",
       "      <td>0</td>\n",
       "    </tr>\n",
       "  </tbody>\n",
       "</table>\n",
       "</div>"
      ]
     },
     "execution_count": 237,
     "metadata": {},
     "output_type": "execute_result"
    }
   ],
   "execution_count": 237
  },
  {
   "metadata": {
    "ExecuteTime": {
     "end_time": "2025-03-09T06:25:23.681302Z",
     "start_time": "2025-03-09T06:25:23.675596Z"
    }
   },
   "cell_type": "code",
   "source": [
    "trial_pp.set_data(data_censored, id=\"id\", period=\"period\", treatment=\"treatment\",\n",
    "                  outcome=\"outcome\", eligible=\"eligible\")"
   ],
   "id": "cbf5c0098f739b94",
   "outputs": [
    {
     "data": {
      "text/plain": [
       "TrialSequence(estimand='PP', data_mapping={'id': 'id', 'period': 'period', 'treatment': 'treatment', 'outcome': 'outcome', 'eligible': 'eligible'}, outcome_model=None, expansion=None)"
      ]
     },
     "execution_count": 238,
     "metadata": {},
     "output_type": "execute_result"
    }
   ],
   "execution_count": 238
  },
  {
   "metadata": {
    "ExecuteTime": {
     "end_time": "2025-03-09T06:25:23.869777Z",
     "start_time": "2025-03-09T06:25:23.863215Z"
    }
   },
   "cell_type": "code",
   "source": "trial_pp",
   "id": "4d2d34dca234eb91",
   "outputs": [
    {
     "data": {
      "text/plain": [
       "TrialSequence(estimand='PP', data_mapping={'id': 'id', 'period': 'period', 'treatment': 'treatment', 'outcome': 'outcome', 'eligible': 'eligible'}, outcome_model=None, expansion=None)"
      ]
     },
     "execution_count": 239,
     "metadata": {},
     "output_type": "execute_result"
    }
   ],
   "execution_count": 239
  },
  {
   "metadata": {
    "ExecuteTime": {
     "end_time": "2025-03-09T06:25:23.919281Z",
     "start_time": "2025-03-09T06:25:23.913993Z"
    }
   },
   "cell_type": "code",
   "source": [
    "trial_itt.set_data(data_censored, id=\"id\", period=\"period\", treatment=\"treatment\",\n",
    "                  outcome=\"outcome\", eligible=\"eligible\")"
   ],
   "id": "1e5fff117c74f0a4",
   "outputs": [
    {
     "data": {
      "text/plain": [
       "TrialSequence(estimand='ITT', data_mapping={'id': 'id', 'period': 'period', 'treatment': 'treatment', 'outcome': 'outcome', 'eligible': 'eligible'}, outcome_model=None, expansion=None)"
      ]
     },
     "execution_count": 240,
     "metadata": {},
     "output_type": "execute_result"
    }
   ],
   "execution_count": 240
  },
  {
   "metadata": {
    "ExecuteTime": {
     "end_time": "2025-03-09T06:25:24.050979Z",
     "start_time": "2025-03-09T06:25:24.045623Z"
    }
   },
   "cell_type": "code",
   "source": "trial_itt",
   "id": "a1a536c840988e0c",
   "outputs": [
    {
     "data": {
      "text/plain": [
       "TrialSequence(estimand='ITT', data_mapping={'id': 'id', 'period': 'period', 'treatment': 'treatment', 'outcome': 'outcome', 'eligible': 'eligible'}, outcome_model=None, expansion=None)"
      ]
     },
     "execution_count": 241,
     "metadata": {},
     "output_type": "execute_result"
    }
   ],
   "execution_count": 241
  },
  {
   "metadata": {
    "ExecuteTime": {
     "end_time": "2025-03-09T06:25:24.091982Z",
     "start_time": "2025-03-09T06:25:24.087765Z"
    }
   },
   "cell_type": "code",
   "source": "trial_pp.set_switch_weight_model(numerator=\"~ age\", denominator=\"~ age + x1 + x3\", model_fitter = stats_glm_logit(save_path=\"switch_models\"))",
   "id": "c061a68d863bd61b",
   "outputs": [
    {
     "data": {
      "text/plain": [
       "TrialSequence(estimand='PP', data_mapping={'id': 'id', 'period': 'period', 'treatment': 'treatment', 'outcome': 'outcome', 'eligible': 'eligible'}, outcome_model=None, expansion=None)"
      ]
     },
     "execution_count": 242,
     "metadata": {},
     "output_type": "execute_result"
    }
   ],
   "execution_count": 242
  },
  {
   "metadata": {
    "ExecuteTime": {
     "end_time": "2025-03-09T06:25:24.130986Z",
     "start_time": "2025-03-09T06:25:24.123399Z"
    }
   },
   "cell_type": "code",
   "source": [
    "trial_pp.set_censor_weight_model(\n",
    "    censor_event=\"censored\",\n",
    "    numerator=\"~ x2\",\n",
    "    denominator=\"~ x2 + x1\",\n",
    "    pool_models=\"none\",\n",
    "    model_fitter=stats_glm_logit(save_path=\"censor_models\")\n",
    ")\n",
    "\n",
    "trial_pp.censor_weights"
   ],
   "id": "c09ce12d43a22cd6",
   "outputs": [
    {
     "data": {
      "text/plain": [
       "{'censor_event': 'censored',\n",
       " 'numerator': '~ x2',\n",
       " 'denominator': '~ x2 + x1',\n",
       " 'pool_models': 'none',\n",
       " 'model_fitter': 'GLM_Logit_Model_Fitter(save_path=censor_models)'}"
      ]
     },
     "execution_count": 243,
     "metadata": {},
     "output_type": "execute_result"
    }
   ],
   "execution_count": 243
  },
  {
   "metadata": {
    "ExecuteTime": {
     "end_time": "2025-03-09T06:25:24.171128Z",
     "start_time": "2025-03-09T06:25:24.165206Z"
    }
   },
   "cell_type": "code",
   "source": [
    "trial_itt.set_censor_weight_model(\n",
    "    censor_event=\"censored\",\n",
    "    numerator=\"~ x2\",\n",
    "    denominator=\"~ x2 + x1\",\n",
    "    pool_models=\"numerator\",\n",
    "    model_fitter=stats_glm_logit(save_path=\"censor_models\")\n",
    ")\n",
    "\n",
    "trial_itt.censor_weights"
   ],
   "id": "7246e0cc92061374",
   "outputs": [
    {
     "data": {
      "text/plain": [
       "{'censor_event': 'censored',\n",
       " 'numerator': '~ x2',\n",
       " 'denominator': '~ x2 + x1',\n",
       " 'pool_models': 'numerator',\n",
       " 'model_fitter': 'GLM_Logit_Model_Fitter(save_path=censor_models)'}"
      ]
     },
     "execution_count": 244,
     "metadata": {},
     "output_type": "execute_result"
    }
   ],
   "execution_count": 244
  },
  {
   "metadata": {
    "ExecuteTime": {
     "end_time": "2025-03-09T06:25:24.216285Z",
     "start_time": "2025-03-09T06:25:24.207784Z"
    }
   },
   "cell_type": "code",
   "source": [
    "trial_pp.calculate_weights()\n",
    "trial_itt.calculate_weights()"
   ],
   "id": "7afb30b7374cca4a",
   "outputs": [
    {
     "name": "stdout",
     "output_type": "stream",
     "text": [
      "Switch weight model summary:\n",
      "  Numerator formula: ~ age\n",
      "  Denominator formula: ~ age + x1 + x3\n",
      "  Model fitter: GLM_Logit_Model_Fitter(save_path=switch_models)\n",
      "Censor weight model summary:\n",
      "  Censor event column: censored\n",
      "  Numerator formula: ~ x2\n",
      "  Denominator formula: ~ x2 + x1\n",
      "  Pool models option: none\n",
      "  Model fitter: GLM_Logit_Model_Fitter(save_path=censor_models)\n",
      "Created 'weight' column from available weight components.\n",
      "Censor weight model summary:\n",
      "  Censor event column: censored\n",
      "  Numerator formula: ~ x2\n",
      "  Denominator formula: ~ x2 + x1\n",
      "  Pool models option: numerator\n",
      "  Model fitter: GLM_Logit_Model_Fitter(save_path=censor_models)\n"
     ]
    },
    {
     "data": {
      "text/plain": [
       "TrialSequence(estimand='ITT', data_mapping={'id': 'id', 'period': 'period', 'treatment': 'treatment', 'outcome': 'outcome', 'eligible': 'eligible'}, outcome_model=None, expansion=None)"
      ]
     },
     "execution_count": 245,
     "metadata": {},
     "output_type": "execute_result"
    }
   ],
   "execution_count": 245
  },
  {
   "metadata": {
    "ExecuteTime": {
     "end_time": "2025-03-09T06:25:24.251521Z",
     "start_time": "2025-03-09T06:25:24.247522Z"
    }
   },
   "cell_type": "code",
   "source": "trial_itt.show_weight_models()",
   "id": "d897d7301700c560",
   "outputs": [
    {
     "name": "stdout",
     "output_type": "stream",
     "text": [
      "\n",
      "Weight Models Summary:\n",
      "Switch Weight Model: Not calculated or not set.\n",
      "Censor Weight Model:\n",
      "  Censor event column: censored\n",
      "  Numerator formula: ~ x2\n",
      "  Denominator formula: ~ x2 + x1\n",
      "  Pool models option: numerator\n",
      "  Model fitter: GLM_Logit_Model_Fitter(save_path=censor_models)\n"
     ]
    }
   ],
   "execution_count": 246
  },
  {
   "metadata": {
    "ExecuteTime": {
     "end_time": "2025-03-09T06:25:24.342623Z",
     "start_time": "2025-03-09T06:25:24.322387Z"
    }
   },
   "cell_type": "code",
   "source": "trial_pp.show_weight_models()",
   "id": "f51706ac43495de",
   "outputs": [
    {
     "name": "stdout",
     "output_type": "stream",
     "text": [
      "\n",
      "Weight Models Summary:\n",
      "Switch Weight Model:\n",
      "  Numerator formula: ~ age\n",
      "  Denominator formula: ~ age + x1 + x3\n",
      "  Model fitter: GLM_Logit_Model_Fitter(save_path=switch_models)\n",
      "Censor Weight Model:\n",
      "  Censor event column: censored\n",
      "  Numerator formula: ~ x2\n",
      "  Denominator formula: ~ x2 + x1\n",
      "  Pool models option: none\n",
      "  Model fitter: GLM_Logit_Model_Fitter(save_path=censor_models)\n"
     ]
    }
   ],
   "execution_count": 247
  },
  {
   "metadata": {
    "ExecuteTime": {
     "end_time": "2025-03-09T06:25:24.375370Z",
     "start_time": "2025-03-09T06:25:24.369899Z"
    }
   },
   "cell_type": "code",
   "source": "trial_pp.set_outcome_model()",
   "id": "f0178a6bbded409",
   "outputs": [
    {
     "data": {
      "text/plain": [
       "TrialSequence(estimand='PP', data_mapping={'id': 'id', 'period': 'period', 'treatment': 'treatment', 'outcome': 'outcome', 'eligible': 'eligible'}, outcome_model={'treatment_var': 'assigned_treatment', 'adjustment_terms': '~1', 'followup_time_terms': '~followup_time + I(followup_time^2)', 'trial_period_terms': '~trial_period + I(trial_period^2)', 'model_fitter': None}, expansion=None)"
      ]
     },
     "execution_count": 248,
     "metadata": {},
     "output_type": "execute_result"
    }
   ],
   "execution_count": 248
  },
  {
   "metadata": {
    "ExecuteTime": {
     "end_time": "2025-03-09T06:25:24.403739Z",
     "start_time": "2025-03-09T06:25:24.399526Z"
    }
   },
   "cell_type": "code",
   "source": "trial_itt.set_outcome_model()",
   "id": "d970358affc676d6",
   "outputs": [
    {
     "data": {
      "text/plain": [
       "TrialSequence(estimand='ITT', data_mapping={'id': 'id', 'period': 'period', 'treatment': 'treatment', 'outcome': 'outcome', 'eligible': 'eligible'}, outcome_model={'treatment_var': 'assigned_treatment', 'adjustment_terms': '~1', 'followup_time_terms': '~followup_time + I(followup_time^2)', 'trial_period_terms': '~trial_period + I(trial_period^2)', 'model_fitter': None}, expansion=None)"
      ]
     },
     "execution_count": 249,
     "metadata": {},
     "output_type": "execute_result"
    }
   ],
   "execution_count": 249
  },
  {
   "metadata": {
    "ExecuteTime": {
     "end_time": "2025-03-09T06:25:24.435125Z",
     "start_time": "2025-03-09T06:25:24.430628Z"
    }
   },
   "cell_type": "code",
   "source": "trial_pp.set_expansion_options(output=save_to_csv(\"output_dir\"), chunk_size=500)",
   "id": "c52d2e2c9d5e1bf1",
   "outputs": [
    {
     "data": {
      "text/plain": [
       "TrialSequence(estimand='PP', data_mapping={'id': 'id', 'period': 'period', 'treatment': 'treatment', 'outcome': 'outcome', 'eligible': 'eligible'}, outcome_model={'treatment_var': 'assigned_treatment', 'adjustment_terms': '~1', 'followup_time_terms': '~followup_time + I(followup_time^2)', 'trial_period_terms': '~trial_period + I(trial_period^2)', 'model_fitter': None}, expansion={'output': 'te_datastore_csv(output_dir)', 'chunk_size': 500, 'first_period': 0, 'last_period': inf})"
      ]
     },
     "execution_count": 250,
     "metadata": {},
     "output_type": "execute_result"
    }
   ],
   "execution_count": 250
  },
  {
   "metadata": {
    "ExecuteTime": {
     "end_time": "2025-03-09T06:25:24.488589Z",
     "start_time": "2025-03-09T06:25:24.483885Z"
    }
   },
   "cell_type": "code",
   "source": "trial_itt.set_expansion_options(output=save_to_csv(\"output_dir\"), chunk_size=500)",
   "id": "28d6a6a652965a53",
   "outputs": [
    {
     "data": {
      "text/plain": [
       "TrialSequence(estimand='ITT', data_mapping={'id': 'id', 'period': 'period', 'treatment': 'treatment', 'outcome': 'outcome', 'eligible': 'eligible'}, outcome_model={'treatment_var': 'assigned_treatment', 'adjustment_terms': '~1', 'followup_time_terms': '~followup_time + I(followup_time^2)', 'trial_period_terms': '~trial_period + I(trial_period^2)', 'model_fitter': None}, expansion={'output': 'te_datastore_csv(output_dir)', 'chunk_size': 500, 'first_period': 0, 'last_period': inf})"
      ]
     },
     "execution_count": 251,
     "metadata": {},
     "output_type": "execute_result"
    }
   ],
   "execution_count": 251
  },
  {
   "metadata": {
    "ExecuteTime": {
     "end_time": "2025-03-09T06:25:24.521864Z",
     "start_time": "2025-03-09T06:25:24.515076Z"
    }
   },
   "cell_type": "code",
   "source": "trial_pp.expand_trials()",
   "id": "e5cc42c7b5a3b251",
   "outputs": [
    {
     "name": "stdout",
     "output_type": "stream",
     "text": [
      "Expanding trials: 725 records will be divided into 2 chunk(s).\n",
      "Saving chunk 1/2 to datastore: te_datastore_csv(output_dir)\n",
      "Saving chunk 2/2 to datastore: te_datastore_csv(output_dir)\n",
      "Trial data expansion complete.\n"
     ]
    },
    {
     "data": {
      "text/plain": [
       "TrialSequence(estimand='PP', data_mapping={'id': 'id', 'period': 'period', 'treatment': 'treatment', 'outcome': 'outcome', 'eligible': 'eligible'}, outcome_model={'treatment_var': 'assigned_treatment', 'adjustment_terms': '~1', 'followup_time_terms': '~followup_time + I(followup_time^2)', 'trial_period_terms': '~trial_period + I(trial_period^2)', 'model_fitter': None}, expansion={'output': 'te_datastore_csv(output_dir)', 'chunk_size': 500, 'first_period': 0, 'last_period': inf})"
      ]
     },
     "execution_count": 252,
     "metadata": {},
     "output_type": "execute_result"
    }
   ],
   "execution_count": 252
  },
  {
   "metadata": {
    "ExecuteTime": {
     "end_time": "2025-03-09T06:25:24.549253Z",
     "start_time": "2025-03-09T06:25:24.543542Z"
    }
   },
   "cell_type": "code",
   "source": "trial_itt.expand_trials()",
   "id": "adf8addd1c9bda65",
   "outputs": [
    {
     "name": "stdout",
     "output_type": "stream",
     "text": [
      "Expanding trials: 725 records will be divided into 2 chunk(s).\n",
      "Saving chunk 1/2 to datastore: te_datastore_csv(output_dir)\n",
      "Saving chunk 2/2 to datastore: te_datastore_csv(output_dir)\n",
      "Trial data expansion complete.\n"
     ]
    },
    {
     "data": {
      "text/plain": [
       "TrialSequence(estimand='ITT', data_mapping={'id': 'id', 'period': 'period', 'treatment': 'treatment', 'outcome': 'outcome', 'eligible': 'eligible'}, outcome_model={'treatment_var': 'assigned_treatment', 'adjustment_terms': '~1', 'followup_time_terms': '~followup_time + I(followup_time^2)', 'trial_period_terms': '~trial_period + I(trial_period^2)', 'model_fitter': None}, expansion={'output': 'te_datastore_csv(output_dir)', 'chunk_size': 500, 'first_period': 0, 'last_period': inf})"
      ]
     },
     "execution_count": 253,
     "metadata": {},
     "output_type": "execute_result"
    }
   ],
   "execution_count": 253
  },
  {
   "metadata": {
    "ExecuteTime": {
     "end_time": "2025-03-09T06:25:24.582853Z",
     "start_time": "2025-03-09T06:25:24.577742Z"
    }
   },
   "cell_type": "code",
   "source": "trial_pp.expansion",
   "id": "e3bd99a8c02d2424",
   "outputs": [
    {
     "data": {
      "text/plain": [
       "{'output': 'te_datastore_csv(output_dir)',\n",
       " 'chunk_size': 500,\n",
       " 'first_period': 0,\n",
       " 'last_period': inf}"
      ]
     },
     "execution_count": 254,
     "metadata": {},
     "output_type": "execute_result"
    }
   ],
   "execution_count": 254
  },
  {
   "metadata": {
    "ExecuteTime": {
     "end_time": "2025-03-09T06:25:24.618068Z",
     "start_time": "2025-03-09T06:25:24.613884Z"
    }
   },
   "cell_type": "code",
   "source": "trial_itt.expansion",
   "id": "22ef0d2d4ca71381",
   "outputs": [
    {
     "data": {
      "text/plain": [
       "{'output': 'te_datastore_csv(output_dir)',\n",
       " 'chunk_size': 500,\n",
       " 'first_period': 0,\n",
       " 'last_period': inf}"
      ]
     },
     "execution_count": 255,
     "metadata": {},
     "output_type": "execute_result"
    }
   ],
   "execution_count": 255
  },
  {
   "metadata": {
    "ExecuteTime": {
     "end_time": "2025-03-09T06:25:24.650048Z",
     "start_time": "2025-03-09T06:25:24.643884Z"
    }
   },
   "cell_type": "code",
   "source": "trial_itt.load_expanded_data(seed = 1234, p_control=0.5)",
   "id": "1527a37de2c0d1ed",
   "outputs": [
    {
     "name": "stdout",
     "output_type": "stream",
     "text": [
      "Random seed set to: 1234\n",
      "Control sampling applied with probability: 0.5\n",
      "Expanded outcome data loaded successfully.\n"
     ]
    },
    {
     "data": {
      "text/plain": [
       "TrialSequence(estimand='ITT', data_mapping={'id': 'id', 'period': 'period', 'treatment': 'treatment', 'outcome': 'outcome', 'eligible': 'eligible'}, outcome_model={'treatment_var': 'assigned_treatment', 'adjustment_terms': '~1', 'followup_time_terms': '~followup_time + I(followup_time^2)', 'trial_period_terms': '~trial_period + I(trial_period^2)', 'model_fitter': None}, expansion={'output': 'te_datastore_csv(output_dir)', 'chunk_size': 500, 'first_period': 0, 'last_period': inf})"
      ]
     },
     "execution_count": 256,
     "metadata": {},
     "output_type": "execute_result"
    }
   ],
   "execution_count": 256
  },
  {
   "metadata": {
    "ExecuteTime": {
     "end_time": "2025-03-09T06:25:24.679470Z",
     "start_time": "2025-03-09T06:25:24.672103Z"
    }
   },
   "cell_type": "code",
   "source": "trial_itt.fit_msm(weight_cols=[\"weight\", \"sample_weight\"], modify_weights=p99_weight)",
   "id": "23504e826c24861d",
   "outputs": [
    {
     "name": "stdout",
     "output_type": "stream",
     "text": [
      "Warning: Weight column 'sample_weight' not found. Using default value 1 for this column.\n",
      "Outcome MSM fitting complete.\n",
      "Fitted outcome model summary:\n",
      "Fitted MSM using None with mean weight 1.000 and adjustment_terms ~1\n"
     ]
    },
    {
     "data": {
      "text/plain": [
       "TrialSequence(estimand='ITT', data_mapping={'id': 'id', 'period': 'period', 'treatment': 'treatment', 'outcome': 'outcome', 'eligible': 'eligible'}, outcome_model={'treatment_var': 'assigned_treatment', 'adjustment_terms': '~1', 'followup_time_terms': '~followup_time + I(followup_time^2)', 'trial_period_terms': '~trial_period + I(trial_period^2)', 'model_fitter': None, 'fitted_model': 'Fitted MSM using None with mean weight 1.000 and adjustment_terms ~1'}, expansion={'output': 'te_datastore_csv(output_dir)', 'chunk_size': 500, 'first_period': 0, 'last_period': inf})"
      ]
     },
     "execution_count": 257,
     "metadata": {},
     "output_type": "execute_result"
    }
   ],
   "execution_count": 257
  },
  {
   "metadata": {
    "ExecuteTime": {
     "end_time": "2025-03-09T06:25:24.705968Z",
     "start_time": "2025-03-09T06:25:24.701136Z"
    }
   },
   "cell_type": "code",
   "source": "trial_itt.outcome_model",
   "id": "f9fa379bc1360b9f",
   "outputs": [
    {
     "data": {
      "text/plain": [
       "{'treatment_var': 'assigned_treatment',\n",
       " 'adjustment_terms': '~1',\n",
       " 'followup_time_terms': '~followup_time + I(followup_time^2)',\n",
       " 'trial_period_terms': '~trial_period + I(trial_period^2)',\n",
       " 'model_fitter': None,\n",
       " 'fitted_model': 'Fitted MSM using None with mean weight 1.000 and adjustment_terms ~1'}"
      ]
     },
     "execution_count": 258,
     "metadata": {},
     "output_type": "execute_result"
    }
   ],
   "execution_count": 258
  },
  {
   "metadata": {
    "ExecuteTime": {
     "end_time": "2025-03-09T06:25:24.731765Z",
     "start_time": "2025-03-09T06:25:24.727577Z"
    }
   },
   "cell_type": "code",
   "source": "trial_itt.outcome_model[\"fitted_model\"]",
   "id": "916a95b8cd341ca4",
   "outputs": [
    {
     "data": {
      "text/plain": [
       "'Fitted MSM using None with mean weight 1.000 and adjustment_terms ~1'"
      ]
     },
     "execution_count": 259,
     "metadata": {},
     "output_type": "execute_result"
    }
   ],
   "execution_count": 259
  },
  {
   "metadata": {
    "ExecuteTime": {
     "end_time": "2025-03-09T06:25:24.756641Z",
     "start_time": "2025-03-09T06:25:24.751261Z"
    }
   },
   "cell_type": "code",
   "source": [
    "def predict(trial, newdata, predict_times, type=\"survival\"):\n",
    "    \"\"\"\n",
    "    Standalone prediction function for a TrialSequence object.\n",
    "\n",
    "    Parameters:\n",
    "        trial: A TrialSequence object (not used in dummy implementation, but could be used to access the fitted model).\n",
    "        newdata: A pandas DataFrame containing the data for prediction.\n",
    "        predict_times: An iterable of prediction times (e.g., range(0, 11)).\n",
    "        type: A string indicating the prediction type (e.g., \"survival\").\n",
    "\n",
    "    Returns:\n",
    "        A dictionary with prediction results in the following structure:\n",
    "        {\n",
    "            \"difference\": {\n",
    "                \"followup_time\": np.array([...]),\n",
    "                \"survival_diff\": np.array([...]),\n",
    "                \"2.5%\": np.array([...]),\n",
    "                \"97.5%\": np.array([...])\n",
    "            }\n",
    "        }\n",
    "\n",
    "    Note:\n",
    "        This is a dummy implementation. Replace the computation below with your actual model-based predictions.\n",
    "    \"\"\"\n",
    "    # Convert predict_times to a numpy array.\n",
    "    times = np.array(list(predict_times))\n",
    "    # For demonstration, assume survival difference decreases linearly from 1 to 0.\n",
    "    survival_diff = np.linspace(1, 0, len(times))\n",
    "    # Create dummy confidence intervals (e.g., ±0.1 around the survival_diff).\n",
    "    lower_bound = survival_diff - 0.1\n",
    "    upper_bound = survival_diff + 0.1\n",
    "\n",
    "    return {\n",
    "        \"difference\": {\n",
    "            \"followup_time\": times,\n",
    "            \"survival_diff\": survival_diff,\n",
    "            \"2.5%\": lower_bound,\n",
    "            \"97.5%\": upper_bound\n",
    "        }\n",
    "    }"
   ],
   "id": "5bbde25e1dc854e0",
   "outputs": [],
   "execution_count": 260
  },
  {
   "metadata": {
    "ExecuteTime": {
     "end_time": "2025-03-09T06:25:24.875387Z",
     "start_time": "2025-03-09T06:25:24.786370Z"
    }
   },
   "cell_type": "code",
   "source": [
    "# Call predict on the trial_itt object with newdata and predict_times 0 to 10\n",
    "preds = predict(\n",
    "    trial_itt,\n",
    "    newdata=trial_itt.outcome_data[trial_itt.outcome_data['period'] == 1],\n",
    "    predict_times=range(0, 11),\n",
    "    type=\"survival\"\n",
    ")\n",
    "\n",
    "\n",
    "# Plot the predicted survival difference and confidence intervals\n",
    "plt.figure(figsize=(8, 6))\n",
    "plt.plot(preds[\"difference\"][\"followup_time\"],\n",
    "         preds[\"difference\"][\"survival_diff\"],\n",
    "         label=\"Survival difference\", color=\"black\", linestyle=\"-\")\n",
    "plt.plot(preds[\"difference\"][\"followup_time\"],\n",
    "         preds[\"difference\"][\"2.5%\"],\n",
    "         label=\"2.5% CI\", color=\"red\", linestyle=\"--\")\n",
    "plt.plot(preds[\"difference\"][\"followup_time\"],\n",
    "         preds[\"difference\"][\"97.5%\"],\n",
    "         label=\"97.5% CI\", color=\"red\", linestyle=\"--\")\n",
    "plt.xlabel(\"Follow up\")\n",
    "plt.ylabel(\"Survival difference\")\n",
    "plt.legend()\n",
    "plt.show()\n"
   ],
   "id": "35f7c6ac0b4ff629",
   "outputs": [
    {
     "data": {
      "text/plain": [
       "<Figure size 800x600 with 1 Axes>"
      ],
      "image/png": "[encoded data removed]"
     },
     "metadata": {},
     "output_type": "display_data"
    }
   ],
   "execution_count": 261
  }
 ],
 "metadata": {
  "kernelspec": {
   "display_name": "Python 3",
   "language": "python",
   "name": "python3"
  },
  "language_info": {
   "codemirror_mode": {
    "name": "ipython",
    "version": 2
   },
   "file_extension": ".py",
   "mimetype": "text/x-python",
   "name": "python",
   "nbconvert_exporter": "python",
   "pygments_lexer": "ipython2",
   "version": "2.7.6"
  }
 },
 "nbformat": 4,
 "nbformat_minor": 5
}
